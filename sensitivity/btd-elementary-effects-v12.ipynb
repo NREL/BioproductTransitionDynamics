{
 "cells": [
  {
   "cell_type": "markdown",
   "metadata": {},
   "source": [
    "# Elementary Effects for the BTD Model"
   ]
  },
  {
   "cell_type": "markdown",
   "metadata": {},
   "source": [
    "## Setup packages."
   ]
  },
  {
   "cell_type": "code",
   "execution_count": null,
   "metadata": {
    "scrolled": false
   },
   "outputs": [],
   "source": [
    "require(data.table)\n",
    "require(magrittr)\n",
    "require(sensitivity)\n",
    "\n",
    "require(ggplot2)"
   ]
  },
  {
   "cell_type": "markdown",
   "metadata": {},
   "source": [
    "## Design experiment."
   ]
  },
  {
   "cell_type": "markdown",
   "metadata": {},
   "source": [
    "### Load input ranges."
   ]
  },
  {
   "cell_type": "code",
   "execution_count": 2,
   "metadata": {
    "scrolled": true
   },
   "outputs": [
    {
     "data": {
      "text/html": [
       "<ol class=list-inline>\n",
       "\t<li>82</li>\n",
       "\t<li>9</li>\n",
       "</ol>\n"
      ],
      "text/latex": [
       "\\begin{enumerate*}\n",
       "\\item 82\n",
       "\\item 9\n",
       "\\end{enumerate*}\n"
      ],
      "text/markdown": [
       "1. 82\n",
       "2. 9\n",
       "\n",
       "\n"
      ],
      "text/plain": [
       "[1] 82  9"
      ]
     },
     "metadata": {},
     "output_type": "display_data"
    }
   ],
   "source": [
    "z.ranges <- fread(\"input-ranges.tsv\")\n",
    "z.ranges %>% dim"
   ]
  },
  {
   "cell_type": "code",
   "execution_count": 3,
   "metadata": {},
   "outputs": [
    {
     "data": {
      "text/plain": [
       "   Variable            Units               Type           Model Minimum    \n",
       " Length:82          Length:82          Length:82          Min.   : -10.00  \n",
       " Class :character   Class :character   Class :character   1st Qu.:   0.00  \n",
       " Mode  :character   Mode  :character   Mode  :character   Median :   0.00  \n",
       "                                                          Mean   :  24.48  \n",
       "                                                          3rd Qu.:   0.00  \n",
       "                                                          Max.   :2015.00  \n",
       " Model Maximum      Model Default       Sensitivity Minimum Sensitivity Maximum\n",
       " Length:82          Min.   :0.000e+00   Min.   :        0   Min.   :0.000e+00  \n",
       " Class :character   1st Qu.:0.000e+00   1st Qu.:        0   1st Qu.:1.000e+00  \n",
       " Mode  :character   Median :1.000e+00   Median :        1   Median :5.000e+00  \n",
       "                    Mean   :1.572e+07   Mean   :  9432283   Mean   :3.735e+07  \n",
       "                    3rd Qu.:9.750e+02   3rd Qu.:      585   3rd Qu.:2.432e+03  \n",
       "                    Max.   :1.253e+09   Max.   :752028000   Max.   :2.005e+09  \n",
       " Sensitivity Default\n",
       " Min.   :0.000e+00  \n",
       " 1st Qu.:0.000e+00  \n",
       " Median :1.000e+00  \n",
       " Mean   :1.572e+07  \n",
       " 3rd Qu.:9.750e+02  \n",
       " Max.   :1.253e+09  "
      ]
     },
     "metadata": {},
     "output_type": "display_data"
    }
   ],
   "source": [
    "z.ranges %>% summary"
   ]
  },
  {
   "cell_type": "markdown",
   "metadata": {},
   "source": [
    "### One-at a time experiment with 500 repetitions, à la Morris."
   ]
  },
  {
   "cell_type": "code",
   "execution_count": 4,
   "metadata": {
    "scrolled": false
   },
   "outputs": [
    {
     "data": {
      "text/html": [
       "<ol class=list-inline>\n",
       "\t<li>41500</li>\n",
       "\t<li>82</li>\n",
       "</ol>\n"
      ],
      "text/latex": [
       "\\begin{enumerate*}\n",
       "\\item 41500\n",
       "\\item 82\n",
       "\\end{enumerate*}\n"
      ],
      "text/markdown": [
       "1. 41500\n",
       "2. 82\n",
       "\n",
       "\n"
      ],
      "text/plain": [
       "[1] 41500    82"
      ]
     },
     "metadata": {},
     "output_type": "display_data"
    }
   ],
   "source": [
    "z.design <- morris(\n",
    "    NULL,\n",
    "    factors = z.ranges$Variable,\n",
    "    r = 500,\n",
    "    design = list(\n",
    "        type = \"oat\",\n",
    "        levels = mapply(function(t, x0, x1) {\n",
    "            if (t == \"Integer\")\n",
    "                x1 - x0 + 1\n",
    "            else if (t == \"Boolean\")\n",
    "                2\n",
    "            else\n",
    "                5\n",
    "        }, z.ranges$Type, z.ranges$`Sensitivity Minimum`, z.ranges$`Sensitivity Maximum`),\n",
    "        grid.jump = 1\n",
    "    )\n",
    ")\n",
    "z.design$X %>% dim"
   ]
  },
  {
   "cell_type": "code",
   "execution_count": 5,
   "metadata": {},
   "outputs": [],
   "source": [
    "write.table(z.design$X, file = \"design.tsv\", row.names = FALSE, col.names = TRUE, sep = \"\\t\", quote = FALSE)"
   ]
  },
  {
   "cell_type": "markdown",
   "metadata": {},
   "source": [
    "### Relate the design to the model's variables."
   ]
  },
  {
   "cell_type": "code",
   "execution_count": 6,
   "metadata": {
    "scrolled": false
   },
   "outputs": [
    {
     "data": {
      "text/plain": [
       "      Run        advertising budget advertising start time\n",
       " Min.   :    1   Min.   :300000     Min.   :2015          \n",
       " 1st Qu.:10376   1st Qu.:425000     1st Qu.:2024          \n",
       " Median :20750   Median :550000     Median :2032          \n",
       " Mean   :20750   Mean   :553389     Mean   :2032          \n",
       " 3rd Qu.:31125   3rd Qu.:675000     3rd Qu.:2041          \n",
       " Max.   :41500   Max.   :800000     Max.   :2050          \n",
       " aversion to NPV deviation base external investor ask rate\n",
       " Min.   :0.1200            Min.   : 4.800                 \n",
       " 1st Qu.:0.1700            1st Qu.: 6.800                 \n",
       " Median :0.2200            Median : 8.800                 \n",
       " Mean   :0.2241            Mean   : 8.695                 \n",
       " 3rd Qu.:0.2700            3rd Qu.:10.800                 \n",
       " Max.   :0.3200            Max.   :12.800                 \n",
       " bioproduct long term price bioproduct offtake agreement\n",
       " Min.   :3000               Min.   :0.3000              \n",
       " 1st Qu.:4250               1st Qu.:0.4250              \n",
       " Median :5500               Median :0.5500              \n",
       " Mean   :5524               Mean   :0.5464              \n",
       " 3rd Qu.:6750               3rd Qu.:0.6750              \n",
       " Max.   :8000               Max.   :0.8000              \n",
       " bioproduct performance advantage bioproduct price fluctuations\n",
       " Min.   :0.600                    Min.   :0.00000              \n",
       " 1st Qu.:0.850                    1st Qu.:0.01250              \n",
       " Median :1.100                    Median :0.02500              \n",
       " Mean   :1.109                    Mean   :0.02444              \n",
       " 3rd Qu.:1.350                    3rd Qu.:0.03750              \n",
       " Max.   :1.600                    Max.   :0.05000              \n",
       " bioproduct price reversion time business as usual runway\n",
       " Min.   :0.600                   Min.   :0.900           \n",
       " 1st Qu.:0.850                   1st Qu.:1.275           \n",
       " Median :1.100                   Median :1.650           \n",
       " Mean   :1.108                   Mean   :1.636           \n",
       " 3rd Qu.:1.350                   3rd Qu.:2.025           \n",
       " Max.   :1.600                   Max.   :2.400           \n",
       " commercial capital cost input commercial fixed operating cost input\n",
       " Min.   :7.520e+08             Min.   :16200000                     \n",
       " 1st Qu.:1.065e+09             1st Qu.:22950000                     \n",
       " Median :1.379e+09             Median :29700000                     \n",
       " Mean   :1.372e+09             Mean   :29643560                     \n",
       " 3rd Qu.:1.692e+09             3rd Qu.:36450000                     \n",
       " Max.   :2.005e+09             Max.   :43200000                     \n",
       " commercial plant capacity commercial plant capacity input\n",
       " Min.   : 438288           Min.   : 438288                \n",
       " 1st Qu.: 620908           1st Qu.: 620908                \n",
       " Median : 803528           Median : 803528                \n",
       " Mean   : 802600           Mean   : 807493                \n",
       " 3rd Qu.: 986148           3rd Qu.: 986148                \n",
       " Max.   :1168768           Max.   :1168768                \n",
       " commercial plant startup period commercial process yield input\n",
       " Min.   :1.800                   Min.   :0.2454                \n",
       " 1st Qu.:2.550                   1st Qu.:0.3477                \n",
       " Median :3.300                   Median :0.4499                \n",
       " Mean   :3.309                   Mean   :0.4492                \n",
       " 3rd Qu.:4.050                   3rd Qu.:0.5522                \n",
       " Max.   :4.800                   Max.   :0.6544                \n",
       " commercial variable operating cost input\n",
       " Min.   : 453.7                          \n",
       " 1st Qu.: 642.7                          \n",
       " Median : 831.7                          \n",
       " Mean   : 824.9                          \n",
       " 3rd Qu.:1020.8                          \n",
       " Max.   :1209.8                          \n",
       " custom feedstock long term price change\n",
       " Min.   :-0.200000                      \n",
       " 1st Qu.:-0.100000                      \n",
       " Median : 0.000000                      \n",
       " Mean   : 0.001439                      \n",
       " 3rd Qu.: 0.100000                      \n",
       " Max.   : 0.200000                      \n",
       " custom feedstock maximum fluctuation magnitude\n",
       " Min.   :0.2850                                \n",
       " 1st Qu.:0.4037                                \n",
       " Median :0.5225                                \n",
       " Mean   :0.5215                                \n",
       " 3rd Qu.:0.6412                                \n",
       " Max.   :0.7600                                \n",
       " custom feedstock periodic fluctuation magnitude\n",
       " Min.   :2.100                                  \n",
       " 1st Qu.:2.975                                  \n",
       " Median :3.850                                  \n",
       " Mean   :3.752                                  \n",
       " 3rd Qu.:4.725                                  \n",
       " Max.   :5.600                                  \n",
       " custom feedstock reversion time custom feedstock starting price\n",
       " Min.   :0.600                   Min.   : 42.00                 \n",
       " 1st Qu.:0.850                   1st Qu.: 59.50                 \n",
       " Median :1.100                   Median : 77.00                 \n",
       " Mean   :1.102                   Mean   : 77.06                 \n",
       " 3rd Qu.:1.350                   3rd Qu.: 94.50                 \n",
       " Max.   :1.600                   Max.   :112.00                 \n",
       " demo capacity    demoing acceptable rate demoing failure default recovery time\n",
       " Min.   :102047   Min.   : 5047           Min.   :0.3900                       \n",
       " 1st Qu.:144567   1st Qu.: 7149           1st Qu.:0.5525                       \n",
       " Median :187086   Median : 9252           Median :0.7150                       \n",
       " Mean   :190112   Mean   : 9236           Mean   :0.7143                       \n",
       " 3rd Qu.:229606   3rd Qu.:11355           3rd Qu.:0.8775                       \n",
       " Max.   :272126   Max.   :13458           Max.   :1.0400                       \n",
       " demoing failure distribution max demoing management overhead\n",
       " Min.   :3.000                    Min.   : 900000            \n",
       " 1st Qu.:4.250                    1st Qu.:1275000            \n",
       " Median :5.500                    Median :1650000            \n",
       " Mean   :5.363                    Mean   :1646105            \n",
       " 3rd Qu.:6.750                    3rd Qu.:2025000            \n",
       " Max.   :8.000                    Max.   :2400000            \n",
       " duration of intellectual property effectiveness of intellectual property\n",
       " Min.   :12.00                     Min.   :0.2400                        \n",
       " 1st Qu.:17.00                     1st Qu.:0.3400                        \n",
       " Median :22.00                     Median :0.4400                        \n",
       " Mean   :21.74                     Mean   :0.4362                        \n",
       " 3rd Qu.:27.00                     3rd Qu.:0.5400                        \n",
       " Max.   :32.00                     Max.   :0.6400                        \n",
       " expected continuity of government policy expected green premium\n",
       " Min.   :0.600                            Min.   :0.0000        \n",
       " 1st Qu.:0.850                            1st Qu.:0.2500        \n",
       " Median :1.100                            Median :0.5000        \n",
       " Mean   :1.111                            Mean   :0.5074        \n",
       " 3rd Qu.:1.350                            3rd Qu.:0.7500        \n",
       " Max.   :1.600                            Max.   :1.0000        \n",
       " feedstock approval maximum cost feedstock approval maximum time\n",
       " Min.   : 600000                 Min.   :3.000                  \n",
       " 1st Qu.: 850000                 1st Qu.:4.250                  \n",
       " Median :1100000                 Median :5.500                  \n",
       " Mean   :1082994                 Mean   :5.435                  \n",
       " 3rd Qu.:1350000                 3rd Qu.:6.750                  \n",
       " Max.   :1600000                 Max.   :8.000                  \n",
       " feedstock approval required switch government capital cost share\n",
       " Min.   :0.0000                     Min.   :0.0000               \n",
       " 1st Qu.:0.0000                     1st Qu.:0.2500               \n",
       " Median :1.0000                     Median :0.5000               \n",
       " Mean   :0.5017                     Mean   :0.4826               \n",
       " 3rd Qu.:1.0000                     3rd Qu.:0.7500               \n",
       " Max.   :1.0000                     Max.   :1.0000               \n",
       " government operating cost share government operating grant period\n",
       " Min.   :0.000                   Min.   :0.900                    \n",
       " 1st Qu.:0.250                   1st Qu.:1.275                    \n",
       " Median :0.500                   Median :1.650                    \n",
       " Mean   :0.524                   Mean   :1.705                    \n",
       " 3rd Qu.:0.750                   3rd Qu.:2.025                    \n",
       " Max.   :1.000                   Max.   :2.400                    \n",
       " government production incentive government research cost share\n",
       " Min.   :    0                   Min.   :0.000                 \n",
       " 1st Qu.: 2500                   1st Qu.:0.250                 \n",
       " Median : 5000                   Median :0.500                 \n",
       " Mean   : 5122                   Mean   :0.504                 \n",
       " 3rd Qu.: 7500                   3rd Qu.:0.750                 \n",
       " Max.   :10000                   Max.   :1.000                 \n",
       " incumbent long term price trend incumbent market share target economic\n",
       " Min.   :0.0600                  Min.   :0.2400                        \n",
       " 1st Qu.:0.0850                  1st Qu.:0.3400                        \n",
       " Median :0.1100                  Median :0.4400                        \n",
       " Mean   :0.1106                  Mean   :0.4344                        \n",
       " 3rd Qu.:0.1350                  3rd Qu.:0.5400                        \n",
       " Max.   :0.1600                  Max.   :0.6400                        \n",
       " incumbent maximum fluctuation incumbent price response magnitude\n",
       " Min.   :0.03000               Min.   :0.1200                    \n",
       " 1st Qu.:0.04250               1st Qu.:0.1700                    \n",
       " Median :0.05500               Median :0.2200                    \n",
       " Mean   :0.05474               Mean   :0.2206                    \n",
       " 3rd Qu.:0.06750               3rd Qu.:0.2700                    \n",
       " Max.   :0.08000               Max.   :0.3200                    \n",
       " incumbent reversion time incumbent starting price initial market size\n",
       " Min.   :0.0600           Min.   : 960             Min.   : 600000    \n",
       " 1st Qu.:0.0850           1st Qu.:1360             1st Qu.: 850000    \n",
       " Median :0.1100           Median :1760             Median :1100000    \n",
       " Mean   :0.1092           Mean   :1755             Mean   :1111759    \n",
       " 3rd Qu.:0.1350           3rd Qu.:2160             3rd Qu.:1350000    \n",
       " Max.   :0.1600           Max.   :2560             Max.   :1600000    \n",
       " investor history investor optimism long term market size\n",
       " Min.   :3.000    Min.   :0.600     Min.   :18000        \n",
       " 1st Qu.:4.250    1st Qu.:0.850     1st Qu.:25500        \n",
       " Median :5.500    Median :1.100     Median :33000        \n",
       " Mean   :5.536    Mean   :1.097     Mean   :33153        \n",
       " 3rd Qu.:6.750    3rd Qu.:1.350     3rd Qu.:40500        \n",
       " Max.   :8.000    Max.   :1.600     Max.   :48000        \n",
       " management response time market growth rate max management runway response\n",
       " Min.   :0.180            Min.   :0.00600    Min.   :3.000                 \n",
       " 1st Qu.:0.255            1st Qu.:0.00850    1st Qu.:4.250                 \n",
       " Median :0.330            Median :0.01100    Median :5.500                 \n",
       " Mean   :0.330            Mean   :0.01098    Mean   :5.475                 \n",
       " 3rd Qu.:0.405            3rd Qu.:0.01350    3rd Qu.:6.750                 \n",
       " Max.   :0.480            Max.   :0.01600    Max.   :8.000                 \n",
       " minimum runway   number of missed stagegates allowed\n",
       " Min.   :0.1800   Min.   :1.800                      \n",
       " 1st Qu.:0.2550   1st Qu.:2.550                      \n",
       " Median :0.3300   Median :3.300                      \n",
       " Mean   :0.3264   Mean   :3.251                      \n",
       " 3rd Qu.:0.4050   3rd Qu.:4.050                      \n",
       " Max.   :0.4800   Max.   :4.800                      \n",
       " pathway approval maximum cost pathway approval maximum time\n",
       " Min.   : 600000               Min.   :3.000                \n",
       " 1st Qu.: 850000               1st Qu.:4.250                \n",
       " Median :1100000               Median :5.500                \n",
       " Mean   :1096199               Mean   :5.479                \n",
       " 3rd Qu.:1350000               3rd Qu.:6.750                \n",
       " Max.   :1600000               Max.   :8.000                \n",
       " pathway approval required switch payback period multiplier\n",
       " Min.   :0.0000                   Min.   :0.60             \n",
       " 1st Qu.:0.0000                   1st Qu.:0.85             \n",
       " Median :0.0000                   Median :1.10             \n",
       " Mean   :0.4898                   Mean   :1.11             \n",
       " 3rd Qu.:1.0000                   3rd Qu.:1.35             \n",
       " Max.   :1.0000                   Max.   :1.60             \n",
       " pilot and demo response time pilot capacity   piloting acceptable rate\n",
       " Min.   :0.1500               Min.   : 540.0   Min.   : 4500           \n",
       " 1st Qu.:0.2125               1st Qu.: 765.0   1st Qu.: 6375           \n",
       " Median :0.2750               Median : 990.0   Median : 8250           \n",
       " Mean   :0.2709               Mean   : 996.6   Mean   : 8315           \n",
       " 3rd Qu.:0.3375               3rd Qu.:1215.0   3rd Qu.:10125           \n",
       " Max.   :0.4000               Max.   :1440.0   Max.   :12000           \n",
       " piloting failure default recovery time piloting failure distribution max\n",
       " Min.   :0.2700                         Min.   :3.00                     \n",
       " 1st Qu.:0.3825                         1st Qu.:4.25                     \n",
       " Median :0.4950                         Median :5.50                     \n",
       " Mean   :0.4865                         Mean   :5.61                     \n",
       " 3rd Qu.:0.6075                         3rd Qu.:6.75                     \n",
       " Max.   :0.7200                         Max.   :8.00                     \n",
       " piloting management overhead product approval maximum cost\n",
       " Min.   : 600000              Min.   : 600000              \n",
       " 1st Qu.: 850000              1st Qu.: 850000              \n",
       " Median :1100000              Median :1100000              \n",
       " Mean   :1107825              Mean   :1127705              \n",
       " 3rd Qu.:1350000              3rd Qu.:1350000              \n",
       " Max.   :1600000              Max.   :1600000              \n",
       " product approval maximum time product approval required switch random stream  \n",
       " Min.   :3.000                 Min.   :0.0000                   Min.   : 0.00  \n",
       " 1st Qu.:4.250                 1st Qu.:0.0000                   1st Qu.: 6.00  \n",
       " Median :5.500                 Median :1.0000                   Median :12.00  \n",
       " Mean   :5.546                 Mean   :0.5022                   Mean   :11.97  \n",
       " 3rd Qu.:6.750                 3rd Qu.:1.0000                   3rd Qu.:18.00  \n",
       " Max.   :8.000                 Max.   :1.0000                   Max.   :24.00  \n",
       " regulatory process starting point required internal return\n",
       " Min.   :0.450                     Min.   :0.04800         \n",
       " 1st Qu.:0.450                     1st Qu.:0.06800         \n",
       " Median :0.450                     Median :0.08800         \n",
       " Mean   :0.807                     Mean   :0.08754         \n",
       " 3rd Qu.:1.200                     3rd Qu.:0.10800         \n",
       " Max.   :1.200                     Max.   :0.12800         \n",
       " required return multiplier researching impact on demoing\n",
       " Min.   :0.600              Min.   :0.1200               \n",
       " 1st Qu.:0.850              1st Qu.:0.1700               \n",
       " Median :1.100              Median :0.2200               \n",
       " Mean   :1.089              Mean   :0.2159               \n",
       " 3rd Qu.:1.350              3rd Qu.:0.2700               \n",
       " Max.   :1.600              Max.   :0.3200               \n",
       " researching impact on piloting retrofit delay   stagegate length\n",
       " Min.   :0.1500                 Min.   :0.3000   Min.   :0.600   \n",
       " 1st Qu.:0.2125                 1st Qu.:0.4250   1st Qu.:0.850   \n",
       " Median :0.2750                 Median :0.5500   Median :1.100   \n",
       " Mean   :0.2707                 Mean   :0.5445   Mean   :1.101   \n",
       " 3rd Qu.:0.3375                 3rd Qu.:0.6750   3rd Qu.:1.350   \n",
       " Max.   :0.4000                 Max.   :0.8000   Max.   :1.600   \n",
       " startup demoing period startup demoing rate startup piloting period\n",
       " Min.   : 600           Min.   :180.0        Min.   :300.0          \n",
       " 1st Qu.: 850           1st Qu.:255.0        1st Qu.:425.0          \n",
       " Median :1100           Median :330.0        Median :550.0          \n",
       " Mean   :1093           Mean   :332.4        Mean   :551.7          \n",
       " 3rd Qu.:1350           3rd Qu.:405.0        3rd Qu.:675.0          \n",
       " Max.   :1600           Max.   :480.0        Max.   :800.0          \n",
       " startup piloting rate strategic value to external investors target demo hours\n",
       " Min.   :120.0         Min.   :0.000e+00                     Min.   :3000     \n",
       " 1st Qu.:170.0         1st Qu.:2.500e+08                     1st Qu.:4250     \n",
       " Median :220.0         Median :5.000e+08                     Median :5500     \n",
       " Mean   :216.9         Mean   :4.816e+08                     Mean   :5547     \n",
       " 3rd Qu.:270.0         3rd Qu.:7.500e+08                     3rd Qu.:6750     \n",
       " Max.   :320.0         Max.   :1.000e+09                     Max.   :8000     \n",
       " target pilot hours\n",
       " Min.   :1800      \n",
       " 1st Qu.:2550      \n",
       " Median :3300      \n",
       " Mean   :3306      \n",
       " 3rd Qu.:4050      \n",
       " Max.   :4800      "
      ]
     },
     "metadata": {},
     "output_type": "display_data"
    }
   ],
   "source": [
    "z.inputs <- cbind(\n",
    "    Run = 1:(dim(z.design$X)[1]),\n",
    "    data.table(\n",
    "        sweep(\n",
    "            sweep(z.design$X, MARGIN = 2, z.ranges$`Sensitivity Maximum` - z.ranges$`Sensitivity Minimum`, `*`),\n",
    "            MARGIN = 2,\n",
    "            z.ranges$`Sensitivity Minimum`,\n",
    "            `+`\n",
    "        )\n",
    "    )\n",
    ")\n",
    "z.inputs %>% summary"
   ]
  },
  {
   "cell_type": "code",
   "execution_count": 7,
   "metadata": {},
   "outputs": [],
   "source": [
    "write.table(z.inputs, file=\"inputs.tsv\", row.names = FALSE, col.names = TRUE, sep = \"\\t\", quote = FALSE)"
   ]
  },
  {
   "cell_type": "markdown",
   "metadata": {},
   "source": [
    "## Analyze results."
   ]
  },
  {
   "cell_type": "markdown",
   "metadata": {},
   "source": [
    "### Read design."
   ]
  },
  {
   "cell_type": "code",
   "execution_count": null,
   "metadata": {
    "scrolled": false
   },
   "outputs": [],
   "source": [
    "z.design <- fread(\"design.tsv\")\n",
    "z.design %>% dim"
   ]
  },
  {
   "cell_type": "markdown",
   "metadata": {},
   "source": [
    "### Read inputs."
   ]
  },
  {
   "cell_type": "code",
   "execution_count": null,
   "metadata": {
    "scrolled": false
   },
   "outputs": [],
   "source": [
    "z.inputs <- fread(\"inputs.tsv\")\n",
    "z.inputs %>% dim"
   ]
  },
  {
   "cell_type": "markdown",
   "metadata": {},
   "source": [
    "### Read outputs."
   ]
  },
  {
   "cell_type": "code",
   "execution_count": null,
   "metadata": {
    "scrolled": false
   },
   "outputs": [],
   "source": [
    "z.outputs <- fread(\"outputs.tsv\")\n",
    "z.outputs[Time == 2050] %>% summary"
   ]
  },
  {
   "cell_type": "markdown",
   "metadata": {},
   "source": [
    "### Clean up outputs by filling in missing results with zero cumulative production."
   ]
  },
  {
   "cell_type": "code",
   "execution_count": null,
   "metadata": {},
   "outputs": [],
   "source": [
    "z.outputs.clean <- z.outputs[`Time` == 2050, .(Run, `Cumulative Production`)]\n",
    "z.outputs.clean <- rbind(\n",
    "    z.outputs.clean,\n",
    "    data.table(Run = setdiff(1:5900, z.outputs[`Time` == 2050, `Run`]), `Cumulative Production` = 0)\n",
    ")[order(Run)]$`Cumulative Production`\n",
    "z.outputs.clean %>% summary"
   ]
  },
  {
   "cell_type": "markdown",
   "metadata": {},
   "source": [
    "### Define functions to compute elementary effects."
   ]
  },
  {
   "cell_type": "code",
   "execution_count": null,
   "metadata": {},
   "outputs": [],
   "source": [
    "ind.rep <- function(i, p) {\n",
    "# indices of the points of the ith trajectory in the DoE\n",
    "  (1 : (p + 1)) + (i - 1) * (p + 1)\n",
    "}\n",
    "\n",
    "ee.oat <- function(X, y) {\n",
    "  # compute the elementary effects for a OAT design\n",
    "  p <- ncol(X)\n",
    "  r <- nrow(X) / (p + 1)\n",
    "  \n",
    "#  if(is(y,\"numeric\")){\n",
    "  if(inherits(y, \"numeric\")){\n",
    "    one_i_vector <- function(i){\n",
    "      j <- ind.rep(i, p)\n",
    "      j1 <- j[1 : p]\n",
    "      j2 <- j[2 : (p + 1)]\n",
    "      # return((y[j2] - y[j1]) / rowSums(X[j2,] - X[j1,]))\n",
    "      return(solve(X[j2,] - X[j1,], y[j2] - y[j1]))\n",
    "    }\n",
    "    ee <- vapply(1:r, one_i_vector, FUN.VALUE = numeric(p))\n",
    "    ee <- t(ee)\n",
    "    # \"ee\" is now a (r times p)-matrix.\n",
    "#  } else if(is(y,\"matrix\")){\n",
    "  } else if(inherits(y, \"matrix\")){\n",
    "    one_i_matrix <- function(i){\n",
    "      j <- ind.rep(i, p)\n",
    "      j1 <- j[1 : p]\n",
    "      j2 <- j[2 : (p + 1)]\n",
    "      return(solve(X[j2,] - X[j1,], \n",
    "                   y[j2, , drop = FALSE] - y[j1, , drop = FALSE]))\n",
    "    }\n",
    "    ee <- vapply(1:r, one_i_matrix, \n",
    "                 FUN.VALUE = matrix(0, nrow = p, ncol = dim(y)[2]))\n",
    "    # Special case handling for p == 1 and ncol(y) == 1 (in this case, \"ee\" is\n",
    "    # a vector of length \"r\"):\n",
    "    if(p == 1 && dim(y)[2] == 1){\n",
    "      ee <- array(ee, dim = c(r, 1, 1))\n",
    "    }\n",
    "    # Transpose \"ee\" (an array of dimensions c(p, ncol(y), r)) to an array of\n",
    "    # dimensions c(r, p, ncol(y)) (for better consistency with the standard \n",
    "    # case that \"class(y) == \"numeric\"\"):\n",
    "    ee <- aperm(ee, perm = c(3, 1, 2))\n",
    "#  } else if(is(y,\"array\")){\n",
    "  } else if(inherits(y, \"array\")){\n",
    "    one_i_array <- function(i){\n",
    "      j <- ind.rep(i, p)\n",
    "      j1 <- j[1 : p]\n",
    "      j2 <- j[2 : (p + 1)]\n",
    "      ee_per_3rd_dim <- sapply(1:(dim(y)[3]), function(idx_3rd_dim){\n",
    "        y_j2_matrix <- y[j2, , idx_3rd_dim]\n",
    "        y_j1_matrix <- y[j1, , idx_3rd_dim]\n",
    "        # Here, the result of \"solve(...)\" is a (p times dim(y)[2])-matrix or\n",
    "        # a vector of length dim(y)[2] (if p == 1):\n",
    "        solve(X[j2,] - X[j1,], y_j2_matrix - y_j1_matrix)\n",
    "      }, simplify = \"array\")\n",
    "      if(dim(y)[2] == 1){\n",
    "        # Correction needed if dim(y)[2] == 1, so \"y_j2_matrix\" and\n",
    "        # \"y_j1_matrix\" have been dropped to matrices (or even vectors, if also\n",
    "        # p == 1):\n",
    "        ee_per_3rd_dim <- array(ee_per_3rd_dim, \n",
    "                                dim = c(p, dim(y)[2], dim(y)[3]))\n",
    "      } else if(p == 1){\n",
    "        # Correction needed if p == 1 (and dim(y)[2] > 1), so \"y_j2_matrix\" and\n",
    "        # \"y_j1_matrix\" have been dropped to matrices:\n",
    "        ee_per_3rd_dim <- array(ee_per_3rd_dim, \n",
    "                                dim = c(1, dim(y)[2], dim(y)[3]))\n",
    "      }\n",
    "      # \"ee_per_3rd_dim\" is now an array of dimensions \n",
    "      # c(p, dim(y)[2], dim(y)[3]). Assign the corresponding names for the \n",
    "      # third dimension:\n",
    "      if(is.null(dimnames(ee_per_3rd_dim))){\n",
    "        dimnames(ee_per_3rd_dim) <- dimnames(y)\n",
    "      } else{\n",
    "        dimnames(ee_per_3rd_dim)[[3]] <- dimnames(y)[[3]]\n",
    "      }\n",
    "      return(ee_per_3rd_dim)\n",
    "    }\n",
    "    ee <- sapply(1:r, one_i_array, simplify = \"array\")\n",
    "    # Special case handling if \"ee\" has been dropped to a vector:\n",
    "#    if(is(ee,\"numeric\")){\n",
    "    if (inherits(ee, \"numeric\")){\n",
    "      ee <- array(ee, dim = c(p, dim(y)[2], dim(y)[3], r))\n",
    "      dimnames(ee) <- list(NULL, dimnames(y)[[2]], dimnames(y)[[3]], NULL)\n",
    "    }\n",
    "    # \"ee\" is an array of dimensions c(p, dim(y)[2], dim(y)[3], r), so it is\n",
    "    # transposed to an array of dimensions c(r, p, dim(y)[2], dim(y)[3]):\n",
    "    ee <- aperm(ee, perm = c(4, 1, 2, 3))\n",
    "  }\n",
    "  return(ee)\n",
    "}"
   ]
  },
  {
   "cell_type": "markdown",
   "metadata": {},
   "source": [
    "### Compute the elementary effects."
   ]
  },
  {
   "cell_type": "code",
   "execution_count": null,
   "metadata": {},
   "outputs": [],
   "source": [
    "z.ee <- ee.oat(z.design, z.outputs.clean)\n",
    "z.ee %>% dim"
   ]
  },
  {
   "cell_type": "markdown",
   "metadata": {},
   "source": [
    "### Compute mu, mu-start, and sigma."
   ]
  },
  {
   "cell_type": "code",
   "execution_count": null,
   "metadata": {},
   "outputs": [],
   "source": [
    "z.mu <- apply(z.ee, 2, mean)\n",
    "z.mustar <- apply(z.ee, 2, function(x) mean(abs(x)))\n",
    "z.sigma <- apply(z.ee, 2, sd)\n",
    "z.result <- data.table(\n",
    "    variable = names(z.mu),\n",
    "    mu       = z.mu       ,\n",
    "    mustar   = z.mustar   ,\n",
    "    sigma    = z.sigma\n",
    ")"
   ]
  },
  {
   "cell_type": "markdown",
   "metadata": {},
   "source": [
    "### Sort the results in decreasing order of influence."
   ]
  },
  {
   "cell_type": "markdown",
   "metadata": {},
   "source": [
    "Interpretations:\n",
    "*   mu: influence of variable\n",
    "*   mustar: influence of variable, accounting for non-monoticity\n",
    "*   sigma: non-linear and interaction effects for variable"
   ]
  },
  {
   "cell_type": "code",
   "execution_count": null,
   "metadata": {},
   "outputs": [],
   "source": [
    "z.result[, `:=`(`mu rank` = frank(-mu), `mustar rank` = frank(-mustar), `sigma rank` = frank(-sigma))]\n",
    "z.result[order(-mustar)]"
   ]
  },
  {
   "cell_type": "markdown",
   "metadata": {},
   "source": [
    "### Plot mu vs sigma."
   ]
  },
  {
   "cell_type": "code",
   "execution_count": null,
   "metadata": {},
   "outputs": [],
   "source": [
    "ggplot(z.result, aes(x = mu, y = sigma, color = mustar, label = variable)) +\n",
    "    geom_point() +\n",
    "    geom_text(size = 2, hjust = 0, vjust = 0)"
   ]
  }
 ],
 "metadata": {
  "kernelspec": {
   "display_name": "R",
   "language": "R",
   "name": "ir"
  },
  "language_info": {
   "codemirror_mode": "r",
   "file_extension": ".r",
   "mimetype": "text/x-r-source",
   "name": "R",
   "pygments_lexer": "r",
   "version": "3.6.1"
  }
 },
 "nbformat": 4,
 "nbformat_minor": 2
}
