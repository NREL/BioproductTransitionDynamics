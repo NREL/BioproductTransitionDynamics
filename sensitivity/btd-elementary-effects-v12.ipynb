{
 "cells": [
  {
   "cell_type": "markdown",
   "metadata": {},
   "source": [
    "# Elementary Effects for the BTD Model"
   ]
  },
  {
   "cell_type": "markdown",
   "metadata": {},
   "source": [
    "## Setup packages."
   ]
  },
  {
   "cell_type": "code",
   "execution_count": 1,
   "metadata": {
    "scrolled": false
   },
   "outputs": [
    {
     "name": "stderr",
     "output_type": "stream",
     "text": [
      "Loading required package: data.table\n",
      "Loading required package: magrittr\n",
      "Loading required package: sensitivity\n",
      "Registered S3 method overwritten by 'sensitivity':\n",
      "  method    from \n",
      "  print.src dplyr\n",
      "Loading required package: ggplot2\n"
     ]
    }
   ],
   "source": [
    "require(data.table)\n",
    "require(magrittr)\n",
    "require(sensitivity)\n",
    "\n",
    "require(ggplot2)"
   ]
  },
  {
   "cell_type": "markdown",
   "metadata": {},
   "source": [
    "## Design experiment."
   ]
  },
  {
   "cell_type": "markdown",
   "metadata": {},
   "source": [
    "### Load input ranges."
   ]
  },
  {
   "cell_type": "code",
   "execution_count": 2,
   "metadata": {
    "scrolled": true
   },
   "outputs": [
    {
     "data": {
      "text/html": [
       "<ol class=list-inline>\n",
       "\t<li>84</li>\n",
       "\t<li>9</li>\n",
       "</ol>\n"
      ],
      "text/latex": [
       "\\begin{enumerate*}\n",
       "\\item 84\n",
       "\\item 9\n",
       "\\end{enumerate*}\n"
      ],
      "text/markdown": [
       "1. 84\n",
       "2. 9\n",
       "\n",
       "\n"
      ],
      "text/plain": [
       "[1] 84  9"
      ]
     },
     "metadata": {},
     "output_type": "display_data"
    }
   ],
   "source": [
    "z.ranges <- fread(\"input-ranges.tsv\")\n",
    "z.ranges %>% dim"
   ]
  },
  {
   "cell_type": "code",
   "execution_count": 3,
   "metadata": {},
   "outputs": [
    {
     "data": {
      "text/plain": [
       "   Variable            Units               Type           Model Minimum      \n",
       " Length:84          Length:84          Length:84          Min.   : -10.0000  \n",
       " Class :character   Class :character   Class :character   1st Qu.:   0.0000  \n",
       " Mode  :character   Mode  :character   Mode  :character   Median :   0.0000  \n",
       "                                                          Mean   :  73.2053  \n",
       "                                                          3rd Qu.:   0.3125  \n",
       "                                                          Max.   :2015.0000  \n",
       " Model Maximum      Model Default       Sensitivity Minimum Sensitivity Maximum\n",
       " Length:84          Min.   :        0   Min.   :       -5   Min.   :0.000e+00  \n",
       " Class :character   1st Qu.:        0   1st Qu.:        0   1st Qu.:2.000e+00  \n",
       " Mode  :character   Median :        1   Median :        0   Median :6.000e+00  \n",
       "                    Mean   :  4988134   Mean   :  1496481   Mean   :2.372e+07  \n",
       "                    3rd Qu.:     1055   3rd Qu.:      316   3rd Qu.:4.717e+03  \n",
       "                    Max.   :401248000   Max.   :120374400   Max.   :1.321e+09  \n",
       " Sensitivity Default\n",
       " Min.   :        0  \n",
       " 1st Qu.:        0  \n",
       " Median :        1  \n",
       " Mean   :  4988134  \n",
       " 3rd Qu.:     1055  \n",
       " Max.   :401248000  "
      ]
     },
     "metadata": {},
     "output_type": "display_data"
    }
   ],
   "source": [
    "z.ranges %>% summary"
   ]
  },
  {
   "cell_type": "markdown",
   "metadata": {},
   "source": [
    "### One-at a time experiment with 500 repetitions, à la Morris."
   ]
  },
  {
   "cell_type": "code",
   "execution_count": 4,
   "metadata": {
    "scrolled": false
   },
   "outputs": [
    {
     "data": {
      "text/html": [
       "<ol class=list-inline>\n",
       "\t<li>42500</li>\n",
       "\t<li>84</li>\n",
       "</ol>\n"
      ],
      "text/latex": [
       "\\begin{enumerate*}\n",
       "\\item 42500\n",
       "\\item 84\n",
       "\\end{enumerate*}\n"
      ],
      "text/markdown": [
       "1. 42500\n",
       "2. 84\n",
       "\n",
       "\n"
      ],
      "text/plain": [
       "[1] 42500    84"
      ]
     },
     "metadata": {},
     "output_type": "display_data"
    }
   ],
   "source": [
    "z.design <- morris(\n",
    "    NULL,\n",
    "    factors = z.ranges$Variable,\n",
    "    r = 500,\n",
    "    design = list(\n",
    "        type = \"oat\",\n",
    "        levels = mapply(function(t, x0, x1) {\n",
    "            if (t == \"Integer\")\n",
    "                x1 - x0 + 1\n",
    "            else if (t == \"Boolean\")\n",
    "                2\n",
    "            else\n",
    "                5\n",
    "        }, z.ranges$Type, z.ranges$`Sensitivity Minimum`, z.ranges$`Sensitivity Maximum`),\n",
    "        grid.jump = 1\n",
    "    )\n",
    ")\n",
    "z.design$X %>% dim"
   ]
  },
  {
   "cell_type": "code",
   "execution_count": 5,
   "metadata": {},
   "outputs": [],
   "source": [
    "write.table(z.design$X, file = \"design.tsv\", row.names = FALSE, col.names = TRUE, sep = \"\\t\", quote = FALSE)"
   ]
  },
  {
   "cell_type": "markdown",
   "metadata": {},
   "source": [
    "### Relate the design to the model's variables."
   ]
  },
  {
   "cell_type": "code",
   "execution_count": 6,
   "metadata": {
    "scrolled": false
   },
   "outputs": [
    {
     "data": {
      "text/plain": [
       "      Run        advertising budget advertising start time\n",
       " Min.   :    1   Min.   : 150000    Min.   :2015          \n",
       " 1st Qu.:10626   1st Qu.: 587500    1st Qu.:2024          \n",
       " Median :21250   Median :1025000    Median :2032          \n",
       " Mean   :21250   Mean   :1022025    Mean   :2033          \n",
       " 3rd Qu.:31875   3rd Qu.:1462500    3rd Qu.:2041          \n",
       " Max.   :42500   Max.   :1900000    Max.   :2050          \n",
       " aversion to NPV deviation base external investor ask rate\n",
       " Min.   :0.060             Min.   : 2.40                  \n",
       " 1st Qu.:0.710             1st Qu.: 6.40                  \n",
       " Median :1.360             Median :10.40                  \n",
       " Mean   :1.393             Mean   :10.19                  \n",
       " 3rd Qu.:2.010             3rd Qu.:14.40                  \n",
       " Max.   :2.660             Max.   :18.40                  \n",
       " bioproduct long term price bioproduct offtake agreement\n",
       " Min.   :1500               Min.   :0.1500              \n",
       " 1st Qu.:3375               1st Qu.:0.8375              \n",
       " Median :5250               Median :1.5250              \n",
       " Mean   :5172               Mean   :1.5342              \n",
       " 3rd Qu.:7125               3rd Qu.:2.2125              \n",
       " Max.   :9000               Max.   :2.9000              \n",
       " bioproduct performance advantage bioproduct price fluctuations\n",
       " Min.   :0.350                    Min.   :0.00000              \n",
       " 1st Qu.:1.712                    1st Qu.:0.00625              \n",
       " Median :3.075                    Median :0.01250              \n",
       " Mean   :3.068                    Mean   :0.01236              \n",
       " 3rd Qu.:4.438                    3rd Qu.:0.01875              \n",
       " Max.   :5.800                    Max.   :0.02500              \n",
       " bioproduct price reversion time business as usual runway\n",
       " Min.   :0.350                   Min.   :0.500           \n",
       " 1st Qu.:1.087                   1st Qu.:1.300           \n",
       " Median :1.825                   Median :2.100           \n",
       " Mean   :1.740                   Mean   :2.005           \n",
       " 3rd Qu.:2.562                   3rd Qu.:2.900           \n",
       " Max.   :3.300                   Max.   :3.700           \n",
       " commercial capital cost input commercial fixed operating cost input\n",
       " Min.   :1.204e+08             Min.   : 3420000                     \n",
       " 1st Qu.:4.205e+08             1st Qu.:11095000                     \n",
       " Median :7.207e+08             Median :18770000                     \n",
       " Mean   :7.164e+08             Mean   :19087655                     \n",
       " 3rd Qu.:1.021e+09             3rd Qu.:26445000                     \n",
       " Max.   :1.321e+09             Max.   :34120000                     \n",
       " commercial plant capacity commercial plant capacity input\n",
       " Min.   :   8590           Min.   :   8590                \n",
       " 1st Qu.: 637168           1st Qu.: 637168                \n",
       " Median :1265747           Median :1265747                \n",
       " Mean   :1197890           Mean   :1262848                \n",
       " 3rd Qu.:1894325           3rd Qu.:1894325                \n",
       " Max.   :2522904           Max.   :2522904                \n",
       " commercial plant startup period commercial process yield input\n",
       " Min.   : 0.9095                 Min.   :0.2360                \n",
       " 1st Qu.: 3.7821                 1st Qu.:0.4560                \n",
       " Median : 6.6547                 Median :0.6760                \n",
       " Mean   : 6.9269                 Mean   :0.6583                \n",
       " 3rd Qu.: 9.5274                 3rd Qu.:0.8960                \n",
       " Max.   :12.4000                 Max.   :1.1160                \n",
       " commercial variable operating cost input\n",
       " Min.   : 365.7                          \n",
       " 1st Qu.: 768.1                          \n",
       " Median :1170.5                          \n",
       " Mean   :1176.3                          \n",
       " 3rd Qu.:1572.8                          \n",
       " Max.   :1975.2                          \n",
       " custom feedstock long term price change\n",
       " Min.   :-0.0500000                     \n",
       " 1st Qu.:-0.0250000                     \n",
       " Median : 0.0000000                     \n",
       " Mean   :-0.0003976                     \n",
       " 3rd Qu.: 0.0250000                     \n",
       " Max.   : 0.0500000                     \n",
       " custom feedstock maximum fluctuation magnitude\n",
       " Min.   :0.1425                                \n",
       " 1st Qu.:0.2969                                \n",
       " Median :0.4512                                \n",
       " Mean   :0.4351                                \n",
       " 3rd Qu.:0.6056                                \n",
       " Max.   :0.7600                                \n",
       " custom feedstock periodic fluctuation magnitude\n",
       " Min.   :1.050                                  \n",
       " 1st Qu.:2.188                                  \n",
       " Median :3.325                                  \n",
       " Mean   :3.328                                  \n",
       " 3rd Qu.:4.463                                  \n",
       " Max.   :5.600                                  \n",
       " custom feedstock reversion time custom feedstock starting price\n",
       " Min.   :0.3095                  Min.   : 12.50                 \n",
       " 1st Qu.:1.0571                  1st Qu.: 79.88                 \n",
       " Median :1.8048                  Median :147.25                 \n",
       " Mean   :1.7399                  Mean   :144.95                 \n",
       " 3rd Qu.:2.5524                  3rd Qu.:214.62                 \n",
       " Max.   :3.3000                  Max.   :282.00                 \n",
       " demo capacity    demoing acceptable rate demoing failure default recovery time\n",
       " Min.   :  5153   Min.   : 2607           Min.   :0.320                        \n",
       " 1st Qu.:132300   1st Qu.: 4733           1st Qu.:0.745                        \n",
       " Median :259447   Median : 6860           Median :1.170                        \n",
       " Mean   :249317   Mean   : 6775           Mean   :1.157                        \n",
       " 3rd Qu.:386594   3rd Qu.: 8986           3rd Qu.:1.595                        \n",
       " Max.   :513741   Max.   :11112           Max.   :2.020                        \n",
       " demoing failure distribution max demoing management overhead\n",
       " Min.   :1.500                    Min.   : 450050            \n",
       " 1st Qu.:3.375                    1st Qu.:1887538            \n",
       " Median :5.250                    Median :3325025            \n",
       " Mean   :5.219                    Mean   :3285283            \n",
       " 3rd Qu.:7.125                    3rd Qu.:4762512            \n",
       " Max.   :9.000                    Max.   :6200000            \n",
       " duration of intellectual property effectiveness of intellectual property\n",
       " Min.   : 6.00                     Min.   :0.120                         \n",
       " 1st Qu.:12.50                     1st Qu.:0.295                         \n",
       " Median :19.00                     Median :0.470                         \n",
       " Mean   :18.68                     Mean   :0.456                         \n",
       " 3rd Qu.:25.50                     3rd Qu.:0.645                         \n",
       " Max.   :32.00                     Max.   :0.820                         \n",
       " elasticity of demand elasticity of supply\n",
       " Min.   :0.350        Min.   :0.350       \n",
       " 1st Qu.:1.712        1st Qu.:1.712       \n",
       " Median :3.075        Median :3.075       \n",
       " Mean   :3.046        Mean   :3.027       \n",
       " 3rd Qu.:4.438        3rd Qu.:4.438       \n",
       " Max.   :5.800        Max.   :5.800       \n",
       " expected continuity of government policy expected green premium\n",
       " Min.   :0.3000                           Min.   :0.000         \n",
       " 1st Qu.:0.5500                           1st Qu.:0.125         \n",
       " Median :0.8000                           Median :0.250         \n",
       " Mean   :0.8096                           Mean   :0.244         \n",
       " 3rd Qu.:1.0500                           3rd Qu.:0.375         \n",
       " Max.   :1.3000                           Max.   :0.500         \n",
       " feedstock approval maximum cost feedstock approval maximum time\n",
       " Min.   : 300500                 Min.   :1.500                  \n",
       " 1st Qu.:1675375                 1st Qu.:3.375                  \n",
       " Median :3050250                 Median :5.250                  \n",
       " Mean   :3059308                 Mean   :5.177                  \n",
       " 3rd Qu.:4425125                 3rd Qu.:7.125                  \n",
       " Max.   :5800000                 Max.   :9.000                  \n",
       " feedstock approval required switch government capital cost share\n",
       " Min.   :0.0000                     Min.   :0.1500               \n",
       " 1st Qu.:0.0000                     1st Qu.:0.3375               \n",
       " Median :1.0000                     Median :0.5250               \n",
       " Mean   :0.5131                     Mean   :0.5235               \n",
       " 3rd Qu.:1.0000                     3rd Qu.:0.7125               \n",
       " Max.   :1.0000                     Max.   :0.9000               \n",
       " government operating cost share government operating grant period\n",
       " Min.   :0.1500                  Min.   :0.700                    \n",
       " 1st Qu.:0.3375                  1st Qu.:1.450                    \n",
       " Median :0.5250                  Median :2.200                    \n",
       " Mean   :0.5300                  Mean   :2.152                    \n",
       " 3rd Qu.:0.7125                  3rd Qu.:2.950                    \n",
       " Max.   :0.9000                  Max.   :3.700                    \n",
       " government production incentive government research cost share\n",
       " Min.   :   0                    Min.   :0.1500                \n",
       " 1st Qu.:1250                    1st Qu.:0.3375                \n",
       " Median :2500                    Median :0.5250                \n",
       " Mean   :2466                    Mean   :0.5206                \n",
       " 3rd Qu.:3750                    3rd Qu.:0.7125                \n",
       " Max.   :5000                    Max.   :0.9000                \n",
       " incumbent long term price trend incumbent market share target economic\n",
       " Min.   :-4.9700                 Min.   :0.1200                        \n",
       " 1st Qu.:-2.4575                 1st Qu.:0.2950                        \n",
       " Median : 0.0550                 Median :0.4700                        \n",
       " Mean   : 0.1454                 Mean   :0.4711                        \n",
       " 3rd Qu.: 2.5675                 3rd Qu.:0.6450                        \n",
       " Max.   : 5.0800                 Max.   :0.8200                        \n",
       " incumbent maximum fluctuation incumbent price response magnitude\n",
       " Min.   :0.0150                Min.   :0.0600                    \n",
       " 1st Qu.:0.6462                1st Qu.:0.2100                    \n",
       " Median :1.2775                Median :0.3600                    \n",
       " Mean   :1.3410                Mean   :0.3564                    \n",
       " 3rd Qu.:1.9087                3rd Qu.:0.5100                    \n",
       " Max.   :2.5400                Max.   :0.6600                    \n",
       " incumbent reversion time incumbent starting price initial market size\n",
       " Min.   :0.0395           Min.   : 480             Min.   :   60050   \n",
       " 1st Qu.:0.6746           1st Qu.:1000             1st Qu.:12585038   \n",
       " Median :1.3097           Median :1520             Median :25110025   \n",
       " Mean   :1.3230           Mean   :1481             Mean   :24298111   \n",
       " 3rd Qu.:1.9449           3rd Qu.:2040             3rd Qu.:37635012   \n",
       " Max.   :2.5800           Max.   :2560             Max.   :50160000   \n",
       " investor history investor optimism long term market size\n",
       " Min.   :1.625    Min.   :0.350     Min.   :   13250     \n",
       " 1st Qu.:3.469    1st Qu.:1.087     1st Qu.:12518738     \n",
       " Median :5.312    Median :1.825     Median :25024225     \n",
       " Mean   :5.357    Mean   :1.837     Mean   :24444559     \n",
       " 3rd Qu.:7.156    3rd Qu.:2.562     3rd Qu.:37529712     \n",
       " Max.   :9.000    Max.   :3.300     Max.   :50035200     \n",
       " management response time market growth rate max management runway response\n",
       " Min.   :0.0995           Min.   :0.01500    Min.   : 1.500                \n",
       " 1st Qu.:0.7596           1st Qu.:0.04000    1st Qu.: 8.375                \n",
       " Median :1.4198           Median :0.06500    Median :15.250                \n",
       " Mean   :1.3668           Mean   :0.06483    Mean   :15.775                \n",
       " 3rd Qu.:2.0799           3rd Qu.:0.09000    3rd Qu.:22.125                \n",
       " Max.   :2.7400           Max.   :0.11500    Max.   :29.000                \n",
       " minimum runway   number of missed stagegates allowed\n",
       " Min.   :0.0995   Min.   :0.900                      \n",
       " 1st Qu.:0.7596   1st Qu.:2.525                      \n",
       " Median :1.4198   Median :4.150                      \n",
       " Mean   :1.3798   Mean   :4.179                      \n",
       " 3rd Qu.:2.0799   3rd Qu.:5.775                      \n",
       " Max.   :2.7400   Max.   :7.400                      \n",
       " pathway approval maximum cost pathway approval maximum time\n",
       " Min.   : 300500               Min.   :1.500                \n",
       " 1st Qu.:1675375               1st Qu.:3.375                \n",
       " Median :3050250               Median :5.250                \n",
       " Mean   :3048083               Mean   :5.069                \n",
       " 3rd Qu.:4425125               3rd Qu.:7.125                \n",
       " Max.   :5800000               Max.   :9.000                \n",
       " pathway approval required switch payback period multiplier\n",
       " Min.   :0.0000                   Min.   :0.300            \n",
       " 1st Qu.:0.0000                   1st Qu.:1.675            \n",
       " Median :1.0000                   Median :3.050            \n",
       " Mean   :0.5161                   Mean   :2.993            \n",
       " 3rd Qu.:1.0000                   3rd Qu.:4.425            \n",
       " Max.   :1.0000                   Max.   :5.800            \n",
       " pilot and demo response time pilot capacity     piloting acceptable rate\n",
       " Min.   :0.0845               Min.   :   270.5   Min.   : 2334           \n",
       " 1st Qu.:0.7384               1st Qu.:125382.9   1st Qu.: 4346           \n",
       " Median :1.3922               Median :250495.2   Median : 6358           \n",
       " Mean   :1.3873               Mean   :250100.8   Mean   : 6464           \n",
       " 3rd Qu.:2.0461               3rd Qu.:375607.6   3rd Qu.: 8371           \n",
       " Max.   :2.7000               Max.   :500720.0   Max.   :10383           \n",
       " piloting failure default recovery time piloting failure distribution max\n",
       " Min.   :0.260                          Min.   :1.500                    \n",
       " 1st Qu.:0.660                          1st Qu.:3.375                    \n",
       " Median :1.060                          Median :5.250                    \n",
       " Mean   :1.048                          Mean   :5.278                    \n",
       " 3rd Qu.:1.460                          3rd Qu.:7.125                    \n",
       " Max.   :1.860                          Max.   :9.000                    \n",
       " piloting management overhead product approval maximum cost\n",
       " Min.   : 300050              Min.   : 300500              \n",
       " 1st Qu.:1675038              1st Qu.:1675375              \n",
       " Median :3050025              Median :3050250              \n",
       " Mean   :3022622              Mean   :3063255              \n",
       " 3rd Qu.:4425012              3rd Qu.:4425125              \n",
       " Max.   :5800000              Max.   :5800000              \n",
       " product approval maximum time product approval required switch random stream \n",
       " Min.   :1.500                 Min.   :0.0000                   Min.   : 0.0  \n",
       " 1st Qu.:3.375                 1st Qu.:0.0000                   1st Qu.: 6.0  \n",
       " Median :5.250                 Median :1.0000                   Median :11.0  \n",
       " Mean   :5.287                 Mean   :0.5044                   Mean   :11.8  \n",
       " 3rd Qu.:7.125                 3rd Qu.:1.0000                   3rd Qu.:18.0  \n",
       " Max.   :9.000                 Max.   :1.0000                   Max.   :24.0  \n",
       " regulatory process starting point required internal return\n",
       " Min.   :0.2250                    Min.   :0.0290          \n",
       " 1st Qu.:0.4437                    1st Qu.:0.6627          \n",
       " Median :0.6625                    Median :1.2965          \n",
       " Mean   :0.6569                    Mean   :1.3173          \n",
       " 3rd Qu.:0.8812                    3rd Qu.:1.9303          \n",
       " Max.   :1.1000                    Max.   :2.5640          \n",
       " required return multiplier researching impact on demoing\n",
       " Min.   :0.305              Min.   :0.0600               \n",
       " 1st Qu.:1.679              1st Qu.:0.2037               \n",
       " Median :3.053              Median :0.3475               \n",
       " Mean   :3.103              Mean   :0.3595               \n",
       " 3rd Qu.:4.426              3rd Qu.:0.4913               \n",
       " Max.   :5.800              Max.   :0.6350               \n",
       " researching impact on piloting retrofit delay  stagegate length\n",
       " Min.   :0.075                  Min.   :0.150   Min.   :0.425   \n",
       " 1st Qu.:0.225                  1st Qu.:1.462   1st Qu.:1.144   \n",
       " Median :0.375                  Median :2.775   Median :1.863   \n",
       " Mean   :0.377                  Mean   :2.653   Mean   :1.879   \n",
       " 3rd Qu.:0.525                  3rd Qu.:4.088   3rd Qu.:2.581   \n",
       " Max.   :0.675                  Max.   :5.400   Max.   :3.300   \n",
       " startup demoing period startup demoing rate startup piloting period\n",
       " Min.   : 300.0         Min.   : 140         Min.   :150.0          \n",
       " 1st Qu.: 625.0         1st Qu.:1261         1st Qu.:337.5          \n",
       " Median : 950.0         Median :2382         Median :525.0          \n",
       " Mean   : 945.2         Mean   :2292         Mean   :524.8          \n",
       " 3rd Qu.:1275.0         3rd Qu.:3502         3rd Qu.:712.5          \n",
       " Max.   :1600.0         Max.   :4623         Max.   :900.0          \n",
       " startup piloting rate strategic value to external investors target demo hours\n",
       " Min.   : 110          Min.   :        0                     Min.   : 1550    \n",
       " 1st Qu.:1218          1st Qu.:125000000                     1st Qu.: 4354    \n",
       " Median :2326          Median :250000000                     Median : 7158    \n",
       " Mean   :2296          Mean   :245673529                     Mean   : 7335    \n",
       " 3rd Qu.:3435          3rd Qu.:375000000                     3rd Qu.: 9962    \n",
       " Max.   :4543          Max.   :500000000                     Max.   :12766    \n",
       " target pilot hours\n",
       " Min.   :  950     \n",
       " 1st Qu.: 3504     \n",
       " Median : 6058     \n",
       " Mean   : 5945     \n",
       " 3rd Qu.: 8612     \n",
       " Max.   :11166     "
      ]
     },
     "metadata": {},
     "output_type": "display_data"
    }
   ],
   "source": [
    "z.inputs <- cbind(\n",
    "    Run = 1:(dim(z.design$X)[1]),\n",
    "    data.table(\n",
    "        sweep(\n",
    "            sweep(z.design$X, MARGIN = 2, z.ranges$`Sensitivity Maximum` - z.ranges$`Sensitivity Minimum`, `*`),\n",
    "            MARGIN = 2,\n",
    "            z.ranges$`Sensitivity Minimum`,\n",
    "            `+`\n",
    "        )\n",
    "    )\n",
    ")\n",
    "z.inputs %>% summary"
   ]
  },
  {
   "cell_type": "code",
   "execution_count": 7,
   "metadata": {},
   "outputs": [],
   "source": [
    "write.table(z.inputs, file=\"inputs.tsv\", row.names = FALSE, col.names = TRUE, sep = \"\\t\", quote = FALSE)"
   ]
  },
  {
   "cell_type": "markdown",
   "metadata": {},
   "source": [
    "## Analyze results."
   ]
  },
  {
   "cell_type": "markdown",
   "metadata": {},
   "source": [
    "### Read design."
   ]
  },
  {
   "cell_type": "code",
   "execution_count": null,
   "metadata": {
    "scrolled": false
   },
   "outputs": [],
   "source": [
    "z.design <- fread(\"design.tsv\")\n",
    "z.design %>% dim"
   ]
  },
  {
   "cell_type": "markdown",
   "metadata": {},
   "source": [
    "### Read inputs."
   ]
  },
  {
   "cell_type": "code",
   "execution_count": null,
   "metadata": {
    "scrolled": false
   },
   "outputs": [],
   "source": [
    "z.inputs <- fread(\"inputs.tsv\")\n",
    "z.inputs %>% dim"
   ]
  },
  {
   "cell_type": "markdown",
   "metadata": {},
   "source": [
    "### Read outputs."
   ]
  },
  {
   "cell_type": "code",
   "execution_count": null,
   "metadata": {
    "scrolled": false
   },
   "outputs": [],
   "source": [
    "z.outputs <- fread(\"outputs.tsv\")\n",
    "z.outputs[Time == 2050] %>% summary"
   ]
  },
  {
   "cell_type": "markdown",
   "metadata": {},
   "source": [
    "### Clean up outputs by filling in missing results with zero cumulative production."
   ]
  },
  {
   "cell_type": "code",
   "execution_count": null,
   "metadata": {},
   "outputs": [],
   "source": [
    "z.outputs.clean <- z.outputs[`Time` == 2050, .(Run, `Cumulative Production`)]\n",
    "z.outputs.clean <- rbind(\n",
    "    z.outputs.clean,\n",
    "    data.table(Run = setdiff(1:5900, z.outputs[`Time` == 2050, `Run`]), `Cumulative Production` = 0)\n",
    ")[order(Run)]$`Cumulative Production`\n",
    "z.outputs.clean %>% summary"
   ]
  },
  {
   "cell_type": "markdown",
   "metadata": {},
   "source": [
    "### Define functions to compute elementary effects."
   ]
  },
  {
   "cell_type": "code",
   "execution_count": null,
   "metadata": {},
   "outputs": [],
   "source": [
    "ind.rep <- function(i, p) {\n",
    "# indices of the points of the ith trajectory in the DoE\n",
    "  (1 : (p + 1)) + (i - 1) * (p + 1)\n",
    "}\n",
    "\n",
    "ee.oat <- function(X, y) {\n",
    "  # compute the elementary effects for a OAT design\n",
    "  p <- ncol(X)\n",
    "  r <- nrow(X) / (p + 1)\n",
    "  \n",
    "#  if(is(y,\"numeric\")){\n",
    "  if(inherits(y, \"numeric\")){\n",
    "    one_i_vector <- function(i){\n",
    "      j <- ind.rep(i, p)\n",
    "      j1 <- j[1 : p]\n",
    "      j2 <- j[2 : (p + 1)]\n",
    "      # return((y[j2] - y[j1]) / rowSums(X[j2,] - X[j1,]))\n",
    "      return(solve(X[j2,] - X[j1,], y[j2] - y[j1]))\n",
    "    }\n",
    "    ee <- vapply(1:r, one_i_vector, FUN.VALUE = numeric(p))\n",
    "    ee <- t(ee)\n",
    "    # \"ee\" is now a (r times p)-matrix.\n",
    "#  } else if(is(y,\"matrix\")){\n",
    "  } else if(inherits(y, \"matrix\")){\n",
    "    one_i_matrix <- function(i){\n",
    "      j <- ind.rep(i, p)\n",
    "      j1 <- j[1 : p]\n",
    "      j2 <- j[2 : (p + 1)]\n",
    "      return(solve(X[j2,] - X[j1,], \n",
    "                   y[j2, , drop = FALSE] - y[j1, , drop = FALSE]))\n",
    "    }\n",
    "    ee <- vapply(1:r, one_i_matrix, \n",
    "                 FUN.VALUE = matrix(0, nrow = p, ncol = dim(y)[2]))\n",
    "    # Special case handling for p == 1 and ncol(y) == 1 (in this case, \"ee\" is\n",
    "    # a vector of length \"r\"):\n",
    "    if(p == 1 && dim(y)[2] == 1){\n",
    "      ee <- array(ee, dim = c(r, 1, 1))\n",
    "    }\n",
    "    # Transpose \"ee\" (an array of dimensions c(p, ncol(y), r)) to an array of\n",
    "    # dimensions c(r, p, ncol(y)) (for better consistency with the standard \n",
    "    # case that \"class(y) == \"numeric\"\"):\n",
    "    ee <- aperm(ee, perm = c(3, 1, 2))\n",
    "#  } else if(is(y,\"array\")){\n",
    "  } else if(inherits(y, \"array\")){\n",
    "    one_i_array <- function(i){\n",
    "      j <- ind.rep(i, p)\n",
    "      j1 <- j[1 : p]\n",
    "      j2 <- j[2 : (p + 1)]\n",
    "      ee_per_3rd_dim <- sapply(1:(dim(y)[3]), function(idx_3rd_dim){\n",
    "        y_j2_matrix <- y[j2, , idx_3rd_dim]\n",
    "        y_j1_matrix <- y[j1, , idx_3rd_dim]\n",
    "        # Here, the result of \"solve(...)\" is a (p times dim(y)[2])-matrix or\n",
    "        # a vector of length dim(y)[2] (if p == 1):\n",
    "        solve(X[j2,] - X[j1,], y_j2_matrix - y_j1_matrix)\n",
    "      }, simplify = \"array\")\n",
    "      if(dim(y)[2] == 1){\n",
    "        # Correction needed if dim(y)[2] == 1, so \"y_j2_matrix\" and\n",
    "        # \"y_j1_matrix\" have been dropped to matrices (or even vectors, if also\n",
    "        # p == 1):\n",
    "        ee_per_3rd_dim <- array(ee_per_3rd_dim, \n",
    "                                dim = c(p, dim(y)[2], dim(y)[3]))\n",
    "      } else if(p == 1){\n",
    "        # Correction needed if p == 1 (and dim(y)[2] > 1), so \"y_j2_matrix\" and\n",
    "        # \"y_j1_matrix\" have been dropped to matrices:\n",
    "        ee_per_3rd_dim <- array(ee_per_3rd_dim, \n",
    "                                dim = c(1, dim(y)[2], dim(y)[3]))\n",
    "      }\n",
    "      # \"ee_per_3rd_dim\" is now an array of dimensions \n",
    "      # c(p, dim(y)[2], dim(y)[3]). Assign the corresponding names for the \n",
    "      # third dimension:\n",
    "      if(is.null(dimnames(ee_per_3rd_dim))){\n",
    "        dimnames(ee_per_3rd_dim) <- dimnames(y)\n",
    "      } else{\n",
    "        dimnames(ee_per_3rd_dim)[[3]] <- dimnames(y)[[3]]\n",
    "      }\n",
    "      return(ee_per_3rd_dim)\n",
    "    }\n",
    "    ee <- sapply(1:r, one_i_array, simplify = \"array\")\n",
    "    # Special case handling if \"ee\" has been dropped to a vector:\n",
    "#    if(is(ee,\"numeric\")){\n",
    "    if (inherits(ee, \"numeric\")){\n",
    "      ee <- array(ee, dim = c(p, dim(y)[2], dim(y)[3], r))\n",
    "      dimnames(ee) <- list(NULL, dimnames(y)[[2]], dimnames(y)[[3]], NULL)\n",
    "    }\n",
    "    # \"ee\" is an array of dimensions c(p, dim(y)[2], dim(y)[3], r), so it is\n",
    "    # transposed to an array of dimensions c(r, p, dim(y)[2], dim(y)[3]):\n",
    "    ee <- aperm(ee, perm = c(4, 1, 2, 3))\n",
    "  }\n",
    "  return(ee)\n",
    "}"
   ]
  },
  {
   "cell_type": "markdown",
   "metadata": {},
   "source": [
    "### Compute the elementary effects."
   ]
  },
  {
   "cell_type": "code",
   "execution_count": null,
   "metadata": {},
   "outputs": [],
   "source": [
    "z.ee <- ee.oat(z.design, z.outputs.clean)\n",
    "z.ee %>% dim"
   ]
  },
  {
   "cell_type": "markdown",
   "metadata": {},
   "source": [
    "### Compute mu, mu-start, and sigma."
   ]
  },
  {
   "cell_type": "code",
   "execution_count": null,
   "metadata": {},
   "outputs": [],
   "source": [
    "z.mu <- apply(z.ee, 2, mean)\n",
    "z.mustar <- apply(z.ee, 2, function(x) mean(abs(x)))\n",
    "z.sigma <- apply(z.ee, 2, sd)\n",
    "z.result <- data.table(\n",
    "    variable = names(z.mu),\n",
    "    mu       = z.mu       ,\n",
    "    mustar   = z.mustar   ,\n",
    "    sigma    = z.sigma\n",
    ")"
   ]
  },
  {
   "cell_type": "markdown",
   "metadata": {},
   "source": [
    "### Sort the results in decreasing order of influence."
   ]
  },
  {
   "cell_type": "markdown",
   "metadata": {},
   "source": [
    "Interpretations:\n",
    "*   mu: influence of variable\n",
    "*   mustar: influence of variable, accounting for non-monoticity\n",
    "*   sigma: non-linear and interaction effects for variable"
   ]
  },
  {
   "cell_type": "code",
   "execution_count": null,
   "metadata": {},
   "outputs": [],
   "source": [
    "z.result[, `:=`(`mu rank` = frank(-mu), `mustar rank` = frank(-mustar), `sigma rank` = frank(-sigma))]\n",
    "z.result[order(-mustar)]"
   ]
  },
  {
   "cell_type": "markdown",
   "metadata": {},
   "source": [
    "### Plot mu vs sigma."
   ]
  },
  {
   "cell_type": "code",
   "execution_count": null,
   "metadata": {},
   "outputs": [],
   "source": [
    "ggplot(z.result, aes(x = mu, y = sigma, color = mustar, label = variable)) +\n",
    "    geom_point() +\n",
    "    geom_text(size = 2, hjust = 0, vjust = 0)"
   ]
  }
 ],
 "metadata": {
  "kernelspec": {
   "display_name": "R",
   "language": "R",
   "name": "ir"
  },
  "language_info": {
   "codemirror_mode": "r",
   "file_extension": ".r",
   "mimetype": "text/x-r-source",
   "name": "R",
   "pygments_lexer": "r",
   "version": "3.6.1"
  }
 },
 "nbformat": 4,
 "nbformat_minor": 2
}
