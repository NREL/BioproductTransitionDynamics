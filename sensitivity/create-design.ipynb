{
 "cells": [
  {
   "cell_type": "code",
   "execution_count": null,
   "metadata": {
    "scrolled": true
   },
   "outputs": [],
   "source": [
    "require(data.table)\n",
    "require(magrittr)\n",
    "require(sensitivity)"
   ]
  },
  {
   "cell_type": "code",
   "execution_count": 2,
   "metadata": {
    "scrolled": true
   },
   "outputs": [
    {
     "data": {
      "text/html": [
       "<ol class=list-inline>\n",
       "\t<li>58</li>\n",
       "\t<li>6</li>\n",
       "</ol>\n"
      ],
      "text/latex": [
       "\\begin{enumerate*}\n",
       "\\item 58\n",
       "\\item 6\n",
       "\\end{enumerate*}\n"
      ],
      "text/markdown": [
       "1. 58\n",
       "2. 6\n",
       "\n",
       "\n"
      ],
      "text/plain": [
       "[1] 58  6"
      ]
     },
     "metadata": {},
     "output_type": "display_data"
    }
   ],
   "source": [
    "z.ranges <- fread(\"input-ranges.tsv\")\n",
    "z.ranges %>% dim"
   ]
  },
  {
   "cell_type": "code",
   "execution_count": 3,
   "metadata": {},
   "outputs": [
    {
     "data": {},
     "metadata": {},
     "output_type": "display_data"
    },
    {
     "data": {},
     "metadata": {},
     "output_type": "display_data"
    }
   ],
   "source": [
    "z.ranges[, `:=`(Minimum = 0.6 * Default, Maximum = 1.6 * Default)]\n",
    "z.ranges[Variable == \"random stream\", `:=`(Minimum = 0, Maximum = 10)]"
   ]
  },
  {
   "cell_type": "code",
   "execution_count": 4,
   "metadata": {
    "scrolled": false
   },
   "outputs": [
    {
     "data": {
      "text/html": [
       "<ol class=list-inline>\n",
       "\t<li>5900</li>\n",
       "\t<li>58</li>\n",
       "</ol>\n"
      ],
      "text/latex": [
       "\\begin{enumerate*}\n",
       "\\item 5900\n",
       "\\item 58\n",
       "\\end{enumerate*}\n"
      ],
      "text/markdown": [
       "1. 5900\n",
       "2. 58\n",
       "\n",
       "\n"
      ],
      "text/plain": [
       "[1] 5900   58"
      ]
     },
     "metadata": {},
     "output_type": "display_data"
    }
   ],
   "source": [
    "z.design <- morris(\n",
    "    NULL,\n",
    "    factors = z.ranges$Variable,\n",
    "    r = 100,\n",
    "    design = list(\n",
    "        type = \"oat\",\n",
    "        levels = mapply(function(t, x0, x1) {\n",
    "            if (t == \"Integer\")\n",
    "                x1 - x0 + 1\n",
    "            else if (t == \"Boolean\")\n",
    "                2\n",
    "            else\n",
    "                5\n",
    "        }, z.ranges$Type, z.ranges$Minimum, z.ranges$Maximum),\n",
    "        grid.jump = 1\n",
    "    )\n",
    ")\n",
    "z.design$X %>% dim"
   ]
  },
  {
   "cell_type": "code",
   "execution_count": 5,
   "metadata": {},
   "outputs": [],
   "source": [
    "write.table(z.design$X, file = \"design.tsv\", row.names = FALSE, col.names = TRUE, sep = \"\\t\", quote = FALSE)"
   ]
  },
  {
   "cell_type": "code",
   "execution_count": 6,
   "metadata": {
    "scrolled": false
   },
   "outputs": [
    {
     "data": {
      "text/plain": [
       "      Run       advertising budget aversion to NPV deviation\n",
       " Min.   :   1   Min.   :300000     Min.   :0.120            \n",
       " 1st Qu.:1476   1st Qu.:425000     1st Qu.:0.170            \n",
       " Median :2950   Median :550000     Median :0.220            \n",
       " Mean   :2950   Mean   :539407     Mean   :0.219            \n",
       " 3rd Qu.:4425   3rd Qu.:675000     3rd Qu.:0.270            \n",
       " Max.   :5900   Max.   :800000     Max.   :0.320            \n",
       " base external investor ask rate bioproduct long term price\n",
       " Min.   : 4.800                  Min.   :3000              \n",
       " 1st Qu.: 6.800                  1st Qu.:4250              \n",
       " Median : 8.800                  Median :5500              \n",
       " Mean   : 8.999                  Mean   :5287              \n",
       " 3rd Qu.:10.800                  3rd Qu.:6750              \n",
       " Max.   :12.800                  Max.   :8000              \n",
       " bioproduct offtake agreement bioproduct performance advantage\n",
       " Min.   :0.3000               Min.   :0.600                   \n",
       " 1st Qu.:0.4250               1st Qu.:0.850                   \n",
       " Median :0.5500               Median :1.100                   \n",
       " Mean   :0.5433               Mean   :1.109                   \n",
       " 3rd Qu.:0.6750               3rd Qu.:1.350                   \n",
       " Max.   :0.8000               Max.   :1.600                   \n",
       " bioproduct price fluctuations bioproduct price reversion time\n",
       " Min.   :0                     Min.   :0.600                  \n",
       " 1st Qu.:0                     1st Qu.:0.850                  \n",
       " Median :0                     Median :1.100                  \n",
       " Mean   :0                     Mean   :1.109                  \n",
       " 3rd Qu.:0                     3rd Qu.:1.350                  \n",
       " Max.   :0                     Max.   :1.600                  \n",
       " commercial capital cost input commercial fixed operating cost input\n",
       " Min.   :7.520e+08             Min.   :16200000                     \n",
       " 1st Qu.:1.065e+09             1st Qu.:22950000                     \n",
       " Median :1.379e+09             Median :29700000                     \n",
       " Mean   :1.415e+09             Mean   :29026144                     \n",
       " 3rd Qu.:1.692e+09             3rd Qu.:36450000                     \n",
       " Max.   :2.005e+09             Max.   :43200000                     \n",
       " commercial plant capacity commercial plant capacity input\n",
       " Min.   : 438288           Min.   : 438288                \n",
       " 1st Qu.: 620908           1st Qu.: 620908                \n",
       " Median : 803528           Median : 803528                \n",
       " Mean   : 800990           Mean   : 774959                \n",
       " 3rd Qu.: 986148           3rd Qu.: 986148                \n",
       " Max.   :1168768           Max.   :1168768                \n",
       " commercial plant startup period commercial process yield input\n",
       " Min.   :1.800                   Min.   :0.2454                \n",
       " 1st Qu.:2.550                   1st Qu.:0.3477                \n",
       " Median :3.300                   Median :0.4499                \n",
       " Mean   :3.159                   Mean   :0.4453                \n",
       " 3rd Qu.:4.050                   3rd Qu.:0.5522                \n",
       " Max.   :4.800                   Max.   :0.6544                \n",
       " commercial variable operating cost input\n",
       " Min.   : 453.7                          \n",
       " 1st Qu.: 642.7                          \n",
       " Median : 831.7                          \n",
       " Mean   : 824.6                          \n",
       " 3rd Qu.:1020.8                          \n",
       " Max.   :1209.8                          \n",
       " custom feedstock long term price change\n",
       " Min.   :0                              \n",
       " 1st Qu.:0                              \n",
       " Median :0                              \n",
       " Mean   :0                              \n",
       " 3rd Qu.:0                              \n",
       " Max.   :0                              \n",
       " custom feedstock maximum fluctuation magnitude\n",
       " Min.   :0.2850                                \n",
       " 1st Qu.:0.4037                                \n",
       " Median :0.5225                                \n",
       " Mean   :0.5335                                \n",
       " 3rd Qu.:0.6412                                \n",
       " Max.   :0.7600                                \n",
       " custom feedstock periodic fluctuation magnitude\n",
       " Min.   :2.100                                  \n",
       " 1st Qu.:2.975                                  \n",
       " Median :3.850                                  \n",
       " Mean   :3.868                                  \n",
       " 3rd Qu.:4.725                                  \n",
       " Max.   :5.600                                  \n",
       " custom feedstock reversion time custom feedstock starting price\n",
       " Min.   :0.600                   Min.   : 42.00                 \n",
       " 1st Qu.:0.850                   1st Qu.: 59.50                 \n",
       " Median :1.100                   Median : 77.00                 \n",
       " Mean   :1.068                   Mean   : 75.05                 \n",
       " 3rd Qu.:1.350                   3rd Qu.: 94.50                 \n",
       " Max.   :1.600                   Max.   :112.00                 \n",
       " elasticity of demand elasticity of supply\n",
       " Min.   :0.600        Min.   :0.60        \n",
       " 1st Qu.:0.850        1st Qu.:0.85        \n",
       " Median :1.100        Median :1.10        \n",
       " Mean   :1.091        Mean   :1.06        \n",
       " 3rd Qu.:1.350        3rd Qu.:1.35        \n",
       " Max.   :1.600        Max.   :1.60        \n",
       " expected continuity of government policy expected green premium\n",
       " Min.   :0.600                            Min.   :0             \n",
       " 1st Qu.:0.850                            1st Qu.:0             \n",
       " Median :1.100                            Median :0             \n",
       " Mean   :1.066                            Mean   :0             \n",
       " 3rd Qu.:1.350                            3rd Qu.:0             \n",
       " Max.   :1.600                            Max.   :0             \n",
       " feedstock approval maximum cost feedstock approval maximum time\n",
       " Min.   : 600000                 Min.   :3.000                  \n",
       " 1st Qu.: 850000                 1st Qu.:4.250                  \n",
       " Median :1100000                 Median :5.500                  \n",
       " Mean   :1123686                 Mean   :5.386                  \n",
       " 3rd Qu.:1350000                 3rd Qu.:6.750                  \n",
       " Max.   :1600000                 Max.   :8.000                  \n",
       " feedstock approval required switch government capital cost share\n",
       " Min.   :0.600                      Min.   :0.600                \n",
       " 1st Qu.:0.600                      1st Qu.:0.850                \n",
       " Median :0.600                      Median :1.100                \n",
       " Mean   :1.092                      Mean   :1.085                \n",
       " 3rd Qu.:1.600                      3rd Qu.:1.350                \n",
       " Max.   :1.600                      Max.   :1.600                \n",
       " government operating cost share government operating grant period\n",
       " Min.   :0.3000                  Min.   :0.900                    \n",
       " 1st Qu.:0.4250                  1st Qu.:1.275                    \n",
       " Median :0.5500                  Median :1.650                    \n",
       " Mean   :0.5571                  Mean   :1.662                    \n",
       " 3rd Qu.:0.6750                  3rd Qu.:2.025                    \n",
       " Max.   :0.8000                  Max.   :2.400                    \n",
       " government production incentive government research cost share\n",
       " Min.   :0                       Min.   :0.3000                \n",
       " 1st Qu.:0                       1st Qu.:0.4250                \n",
       " Median :0                       Median :0.5500                \n",
       " Mean   :0                       Mean   :0.5571                \n",
       " 3rd Qu.:0                       3rd Qu.:0.6750                \n",
       " Max.   :0                       Max.   :0.8000                \n",
       " incumbent long term price trend incumbent market share target economic\n",
       " Min.   :0.060                   Min.   :0.2400                        \n",
       " 1st Qu.:0.085                   1st Qu.:0.3400                        \n",
       " Median :0.110                   Median :0.4400                        \n",
       " Mean   :0.111                   Mean   :0.4231                        \n",
       " 3rd Qu.:0.135                   3rd Qu.:0.5400                        \n",
       " Max.   :0.160                   Max.   :0.6400                        \n",
       " incumbent maximum fluctuation incumbent price response magnitude\n",
       " Min.   :0.03000               Min.   :0.1200                    \n",
       " 1st Qu.:0.04250               1st Qu.:0.1700                    \n",
       " Median :0.05500               Median :0.2200                    \n",
       " Mean   :0.05657               Mean   :0.2217                    \n",
       " 3rd Qu.:0.06750               3rd Qu.:0.2700                    \n",
       " Max.   :0.08000               Max.   :0.3200                    \n",
       " incumbent reversion time incumbent starting price initial market size\n",
       " Min.   :0.060            Min.   : 960             Min.   : 600000    \n",
       " 1st Qu.:0.085            1st Qu.:1360             1st Qu.: 850000    \n",
       " Median :0.110            Median :1760             Median :1100000    \n",
       " Mean   :0.100            Mean   :1742             Mean   :1062542    \n",
       " 3rd Qu.:0.110            3rd Qu.:2160             3rd Qu.:1350000    \n",
       " Max.   :0.160            Max.   :2560             Max.   :1600000    \n",
       " investor optimism long term market size market growth rate\n",
       " Min.   :0.600     Min.   :18000         Min.   :0.00600   \n",
       " 1st Qu.:0.850     1st Qu.:25500         1st Qu.:0.00850   \n",
       " Median :1.100     Median :33000         Median :0.01100   \n",
       " Mean   :1.074     Mean   :32636         Mean   :0.01087   \n",
       " 3rd Qu.:1.350     3rd Qu.:40500         3rd Qu.:0.01350   \n",
       " Max.   :1.600     Max.   :48000         Max.   :0.01600   \n",
       " pathway approval maximum cost pathway approval maximum time\n",
       " Min.   : 600000               Min.   :3.000                \n",
       " 1st Qu.: 850000               1st Qu.:4.250                \n",
       " Median :1100000               Median :5.500                \n",
       " Mean   :1098729               Mean   :5.489                \n",
       " 3rd Qu.:1350000               3rd Qu.:6.750                \n",
       " Max.   :1600000               Max.   :8.000                \n",
       " pathway approval required switch payback period multiplier\n",
       " Min.   :0.600                    Min.   :0.600            \n",
       " 1st Qu.:0.600                    1st Qu.:0.850            \n",
       " Median :1.600                    Median :1.100            \n",
       " Mean   :1.104                    Mean   :1.136            \n",
       " 3rd Qu.:1.600                    3rd Qu.:1.350            \n",
       " Max.   :1.600                    Max.   :1.600            \n",
       " product approval maximum cost product approval maximum time\n",
       " Min.   : 600000               Min.   :3.000                \n",
       " 1st Qu.: 850000               1st Qu.:4.250                \n",
       " Median :1100000               Median :5.500                \n",
       " Mean   :1071992               Mean   :5.583                \n",
       " 3rd Qu.:1350000               3rd Qu.:6.750                \n",
       " Max.   :1600000               Max.   :8.000                \n",
       " product approval required switch random stream   \n",
       " Min.   :0.600                    Min.   : 0.000  \n",
       " 1st Qu.:0.600                    1st Qu.: 2.000  \n",
       " Median :0.600                    Median : 4.000  \n",
       " Mean   :1.058                    Mean   : 4.618  \n",
       " 3rd Qu.:1.600                    3rd Qu.: 7.000  \n",
       " Max.   :1.600                    Max.   :10.000  \n",
       " regulatory process starting point required internal return\n",
       " Min.   :0.4500                    Min.   :0.04800         \n",
       " 1st Qu.:0.6375                    1st Qu.:0.06800         \n",
       " Median :0.8250                    Median :0.08800         \n",
       " Mean   :0.8082                    Mean   :0.08819         \n",
       " 3rd Qu.:1.0125                    3rd Qu.:0.10800         \n",
       " Max.   :1.2000                    Max.   :0.12800         \n",
       " required return multiplier retrofit delay   stagegate length\n",
       " Min.   :0.600              Min.   :0.3000   Min.   :0.600   \n",
       " 1st Qu.:0.850              1st Qu.:0.4250   1st Qu.:0.850   \n",
       " Median :1.100              Median :0.5500   Median :1.100   \n",
       " Mean   :1.112              Mean   :0.5312   Mean   :1.096   \n",
       " 3rd Qu.:1.350              3rd Qu.:0.6750   3rd Qu.:1.350   \n",
       " Max.   :1.600              Max.   :0.8000   Max.   :1.600   \n",
       " strategic value to external investors target demo hours target pilot hours\n",
       " Min.   :0                             Min.   :3000      Min.   :1800      \n",
       " 1st Qu.:0                             1st Qu.:4250      1st Qu.:2550      \n",
       " Median :0                             Median :5500      Median :3300      \n",
       " Mean   :0                             Mean   :5615      Mean   :3402      \n",
       " 3rd Qu.:0                             3rd Qu.:6750      3rd Qu.:4050      \n",
       " Max.   :0                             Max.   :8000      Max.   :4800      "
      ]
     },
     "metadata": {},
     "output_type": "display_data"
    }
   ],
   "source": [
    "z.inputs <- cbind(\n",
    "    Run = 1:(dim(z.design$X)[1]),\n",
    "    data.table(\n",
    "        sweep(\n",
    "            sweep(z.design$X, MARGIN = 2, z.ranges$Maximum - z.ranges$Minimum, `*`),\n",
    "            MARGIN = 2,\n",
    "            z.ranges$Minimum,\n",
    "            `+`\n",
    "        )\n",
    "    )\n",
    ")\n",
    "z.inputs %>% summary"
   ]
  },
  {
   "cell_type": "code",
   "execution_count": 7,
   "metadata": {},
   "outputs": [],
   "source": [
    "write.table(z.inputs, file=\"inputs.tsv\", row.names = FALSE, col.names = TRUE, sep = \"\\t\", quote = FALSE)"
   ]
  },
  {
   "cell_type": "code",
   "execution_count": null,
   "metadata": {
    "scrolled": false
   },
   "outputs": [],
   "source": [
    "fread(\"outputs.tsv\")[Time == 2020] %>% summary"
   ]
  },
  {
   "cell_type": "code",
   "execution_count": null,
   "metadata": {},
   "outputs": [],
   "source": [
    "?morris"
   ]
  },
  {
   "cell_type": "code",
   "execution_count": null,
   "metadata": {},
   "outputs": [],
   "source": []
  }
 ],
 "metadata": {
  "kernelspec": {
   "display_name": "R",
   "language": "R",
   "name": "ir"
  },
  "language_info": {
   "codemirror_mode": "r",
   "file_extension": ".r",
   "mimetype": "text/x-r-source",
   "name": "R",
   "pygments_lexer": "r",
   "version": "3.6.1"
  }
 },
 "nbformat": 4,
 "nbformat_minor": 2
}
