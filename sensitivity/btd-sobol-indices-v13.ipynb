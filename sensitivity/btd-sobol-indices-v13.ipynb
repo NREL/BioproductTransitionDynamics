{
 "cells": [
  {
   "cell_type": "markdown",
   "metadata": {},
   "source": [
    "# Sobol Sensitivity Indices for the BTD Model"
   ]
  },
  {
   "cell_type": "markdown",
   "metadata": {},
   "source": [
    "## Setup packages."
   ]
  },
  {
   "cell_type": "code",
   "execution_count": 1,
   "metadata": {
    "scrolled": false
   },
   "outputs": [
    {
     "name": "stderr",
     "output_type": "stream",
     "text": [
      "Loading required package: data.table\n",
      "Loading required package: magrittr\n",
      "Loading required package: sensitivity\n",
      "Registered S3 method overwritten by 'sensitivity':\n",
      "  method    from \n",
      "  print.src dplyr\n",
      "Loading required package: SobolSequence\n",
      "Loading required package: ggplot2\n"
     ]
    }
   ],
   "source": [
    "require(data.table)\n",
    "require(magrittr)\n",
    "require(sensitivity)\n",
    "require(SobolSequence)\n",
    "\n",
    "require(ggplot2)"
   ]
  },
  {
   "cell_type": "markdown",
   "metadata": {},
   "source": [
    "## Design experiment."
   ]
  },
  {
   "cell_type": "markdown",
   "metadata": {},
   "source": [
    "### Load input ranges."
   ]
  },
  {
   "cell_type": "code",
   "execution_count": 2,
   "metadata": {
    "scrolled": true
   },
   "outputs": [
    {
     "data": {
      "text/html": [
       "<ol class=list-inline>\n",
       "\t<li>32</li>\n",
       "\t<li>9</li>\n",
       "</ol>\n"
      ],
      "text/latex": [
       "\\begin{enumerate*}\n",
       "\\item 32\n",
       "\\item 9\n",
       "\\end{enumerate*}\n"
      ],
      "text/markdown": [
       "1. 32\n",
       "2. 9\n",
       "\n",
       "\n"
      ],
      "text/plain": [
       "[1] 32  9"
      ]
     },
     "metadata": {},
     "output_type": "display_data"
    }
   ],
   "source": [
    "z.ranges <- fread(\"input-ranges-si.tsv\")\n",
    "z.ranges %>% dim"
   ]
  },
  {
   "cell_type": "code",
   "execution_count": 3,
   "metadata": {},
   "outputs": [
    {
     "data": {
      "text/plain": [
       "   Variable            Units               Type           Model Minimum   \n",
       " Length:32          Length:32          Length:32          Min.   :  0.00  \n",
       " Class :character   Class :character   Class :character   1st Qu.:  0.00  \n",
       " Mode  :character   Mode  :character   Mode  :character   Median :  0.01  \n",
       "                                                          Mean   : 17.89  \n",
       "                                                          3rd Qu.:  1.00  \n",
       "                                                          Max.   :168.00  \n",
       " Model Maximum      Model Default       Sensitivity Minimum Sensitivity Maximum\n",
       " Length:32          Min.   :        0   Min.   :        0   Min.   :0.000e+00  \n",
       " Class :character   1st Qu.:        0   1st Qu.:        0   1st Qu.:3.000e+00  \n",
       " Mode  :character   Median :        1   Median :        0   Median :1.400e+01  \n",
       "                    Mean   : 12547769   Mean   :  3764340   Mean   :5.865e+07  \n",
       "                    3rd Qu.:     1664   3rd Qu.:      512   3rd Qu.:1.058e+04  \n",
       "                    Max.   :401248000   Max.   :120374400   Max.   :1.321e+09  \n",
       " Sensitivity Default\n",
       " Min.   :        0  \n",
       " 1st Qu.:        0  \n",
       " Median :        1  \n",
       " Mean   : 12547769  \n",
       " 3rd Qu.:     1664  \n",
       " Max.   :401248000  "
      ]
     },
     "metadata": {},
     "output_type": "display_data"
    }
   ],
   "source": [
    "z.ranges %>% summary"
   ]
  },
  {
   "cell_type": "markdown",
   "metadata": {},
   "source": [
    "### Experiment based on Sobol sequences."
   ]
  },
  {
   "cell_type": "code",
   "execution_count": 4,
   "metadata": {},
   "outputs": [
    {
     "data": {
      "text/html": [
       "<ol class=list-inline>\n",
       "\t<li>10000</li>\n",
       "\t<li>32</li>\n",
       "</ol>\n"
      ],
      "text/latex": [
       "\\begin{enumerate*}\n",
       "\\item 10000\n",
       "\\item 32\n",
       "\\end{enumerate*}\n"
      ],
      "text/markdown": [
       "1. 10000\n",
       "2. 32\n",
       "\n",
       "\n"
      ],
      "text/plain": [
       "[1] 10000    32"
      ]
     },
     "metadata": {},
     "output_type": "display_data"
    }
   ],
   "source": [
    "z.design <- sobolSequence.points(dim(z.ranges)[1], count = 10000)\n",
    "colnames(z.design) <- z.ranges$Variable\n",
    "z.design %>% dim"
   ]
  },
  {
   "cell_type": "code",
   "execution_count": 5,
   "metadata": {},
   "outputs": [],
   "source": [
    "write.table(z.design, file = \"design-si.tsv\", row.names = FALSE, col.names = TRUE, sep = \"\\t\", quote = FALSE)"
   ]
  },
  {
   "cell_type": "markdown",
   "metadata": {},
   "source": [
    "### Relate the design to the model's variables."
   ]
  },
  {
   "cell_type": "code",
   "execution_count": 6,
   "metadata": {},
   "outputs": [
    {
     "data": {
      "text/plain": [
       "      Run        aversion to NPV deviation base external investor ask rate\n",
       " Min.   :    1   Min.   :0.0600            Min.   : 2.4                   \n",
       " 1st Qu.: 2501   1st Qu.:0.7099            1st Qu.: 6.4                   \n",
       " Median : 5000   Median :1.3598            Median :10.4                   \n",
       " Mean   : 5000   Mean   :1.3598            Mean   :10.4                   \n",
       " 3rd Qu.: 7500   3rd Qu.:2.0098            3rd Qu.:14.4                   \n",
       " Max.   :10000   Max.   :2.6597            Max.   :18.4                   \n",
       " bioproduct long term price bioproduct performance advantage\n",
       " Min.   :1500               Min.   :0.350                   \n",
       " 1st Qu.:3375               1st Qu.:1.712                   \n",
       " Median :5250               Median :3.075                   \n",
       " Mean   :5250               Mean   :3.075                   \n",
       " 3rd Qu.:7124               3rd Qu.:4.437                   \n",
       " Max.   :8999               Max.   :5.800                   \n",
       " commercial capital cost input commercial plant capacity\n",
       " Min.   :1.204e+08             Min.   :   8590          \n",
       " 1st Qu.:4.205e+08             1st Qu.: 637091          \n",
       " Median :7.206e+08             Median :1265593          \n",
       " Mean   :7.206e+08             Mean   :1265825          \n",
       " 3rd Qu.:1.021e+09             3rd Qu.:1894095          \n",
       " Max.   :1.321e+09             Max.   :2522597          \n",
       " commercial plant capacity input commercial process yield input\n",
       " Min.   :   8590                 Min.   :0.2360                \n",
       " 1st Qu.: 637091                 1st Qu.:0.4560                \n",
       " Median :1265593                 Median :0.6759                \n",
       " Mean   :1265608                 Mean   :0.6759                \n",
       " 3rd Qu.:1894095                 3rd Qu.:0.8959                \n",
       " Max.   :2522597                 Max.   :1.1159                \n",
       " commercial variable operating cost input\n",
       " Min.   : 365.7                          \n",
       " 1st Qu.: 768.0                          \n",
       " Median :1170.4                          \n",
       " Mean   :1170.3                          \n",
       " 3rd Qu.:1572.7                          \n",
       " Max.   :1975.0                          \n",
       " expected continuity of government policy government capital cost share\n",
       " Min.   :0.30                             Min.   :0.1500               \n",
       " 1st Qu.:0.55                             1st Qu.:0.3375               \n",
       " Median :0.80                             Median :0.5250               \n",
       " Mean   :0.80                             Mean   :0.5249               \n",
       " 3rd Qu.:1.05                             3rd Qu.:0.7124               \n",
       " Max.   :1.30                             Max.   :0.8999               \n",
       " government production incentive initial market size management response time\n",
       " Min.   :   0                    Min.   :   60050    Min.   :0.0995          \n",
       " 1st Qu.:1250                    1st Qu.:12583509    1st Qu.:0.7596          \n",
       " Median :2500                    Median :25106967    Median :1.4197          \n",
       " Mean   :2499                    Mean   :25107036    Mean   :1.4196          \n",
       " 3rd Qu.:3750                    3rd Qu.:37630426    3rd Qu.:2.0798          \n",
       " Max.   :4999                    Max.   :50153884    Max.   :2.7398          \n",
       " market growth rate minimum runway   number of missed stagegates allowed\n",
       " Min.   :0.01500    Min.   :0.0995   Min.   :0.900                      \n",
       " 1st Qu.:0.04000    1st Qu.:0.7595   1st Qu.:2.525                      \n",
       " Median :0.06499    Median :1.4196   Median :4.150                      \n",
       " Mean   :0.06500    Mean   :1.4196   Mean   :4.149                      \n",
       " 3rd Qu.:0.08999    3rd Qu.:2.0796   3rd Qu.:5.774                      \n",
       " Max.   :0.11499    Max.   :2.7397   Max.   :7.399                      \n",
       " payback period multiplier pilot and demo response time pilot capacity    \n",
       " Min.   :0.300             Min.   :0.0845               Min.   :   270.5  \n",
       " 1st Qu.:1.675             1st Qu.:0.7383               1st Qu.:125367.6  \n",
       " Median :3.050             Median :1.3921               Median :250464.7  \n",
       " Mean   :3.049             Mean   :1.3921               Mean   :250487.6  \n",
       " 3rd Qu.:4.424             3rd Qu.:2.0459               3rd Qu.:375561.8  \n",
       " Max.   :5.799             Max.   :2.6997               Max.   :500658.9  \n",
       " piloting acceptable rate piloting failure default recovery time\n",
       " Min.   : 2334            Min.   :0.26                          \n",
       " 1st Qu.: 4346            1st Qu.:0.66                          \n",
       " Median : 6358            Median :1.06                          \n",
       " Mean   : 6358            Mean   :1.06                          \n",
       " 3rd Qu.: 8370            3rd Qu.:1.46                          \n",
       " Max.   :10382            Max.   :1.86                          \n",
       " piloting failure distribution max random stream required internal return\n",
       " Min.   :1.500                     Min.   : 0    Min.   :0.0290          \n",
       " 1st Qu.:3.375                     1st Qu.: 6    1st Qu.:0.6627          \n",
       " Median :5.250                     Median :12    Median :1.2964          \n",
       " Mean   :5.250                     Mean   :12    Mean   :1.2963          \n",
       " 3rd Qu.:7.124                     3rd Qu.:18    3rd Qu.:1.9301          \n",
       " Max.   :8.999                     Max.   :24    Max.   :2.5638          \n",
       " required return multiplier researching impact on piloting\n",
       " Min.   :0.305              Min.   :0.0750                \n",
       " 1st Qu.:1.679              1st Qu.:0.2250                \n",
       " Median :3.052              Median :0.3750                \n",
       " Mean   :3.052              Mean   :0.3750                \n",
       " 3rd Qu.:4.426              3rd Qu.:0.5249                \n",
       " Max.   :5.799              Max.   :0.6749                \n",
       " startup piloting period startup piloting rate\n",
       " Min.   :150.0           Min.   : 110         \n",
       " 1st Qu.:337.5           1st Qu.:1218         \n",
       " Median :525.0           Median :2326         \n",
       " Mean   :524.9           Mean   :2326         \n",
       " 3rd Qu.:712.4           3rd Qu.:3434         \n",
       " Max.   :899.9           Max.   :4542         \n",
       " strategic value to external investors target demo hours target pilot hours\n",
       " Min.   :        0                     Min.   : 1550     Min.   :  950     \n",
       " 1st Qu.:124984741                     1st Qu.: 4354     1st Qu.: 3504     \n",
       " Median :249969482                     Median : 7157     Median : 6058     \n",
       " Mean   :249965381                     Mean   : 7157     Mean   : 6058     \n",
       " 3rd Qu.:374954224                     3rd Qu.: 9961     3rd Qu.: 8612     \n",
       " Max.   :499938965                     Max.   :12765     Max.   :11165     "
      ]
     },
     "metadata": {},
     "output_type": "display_data"
    }
   ],
   "source": [
    "z.inputs <- z.design\n",
    "for (i in 1:dim(z.ranges)[1]) {\n",
    "    z.inputs[, i] <- z.ranges[i, `Sensitivity Minimum`] * (1 - z.inputs[, i]) +\n",
    "                     z.ranges[i, `Sensitivity Maximum`] *      z.inputs[, i]\n",
    "    if (z.ranges[i, `Type`] %in% c(\"Integer\", \"Boolean\"))\n",
    "        z.inputs[, i] <- round(z.inputs[, i])\n",
    "}\n",
    "z.inputs <- data.table(\n",
    "    Run = 1:dim(z.inputs)[1],\n",
    "    z.inputs\n",
    ")\n",
    "z.inputs %>% summary"
   ]
  },
  {
   "cell_type": "code",
   "execution_count": 7,
   "metadata": {},
   "outputs": [],
   "source": [
    "write.table(z.inputs, file=\"inputs-si.tsv\", row.names = FALSE, col.names = TRUE, sep = \"\\t\", quote = FALSE)"
   ]
  },
  {
   "cell_type": "markdown",
   "metadata": {},
   "source": [
    "## Analyze results."
   ]
  },
  {
   "cell_type": "markdown",
   "metadata": {},
   "source": [
    "### Read files."
   ]
  },
  {
   "cell_type": "markdown",
   "metadata": {},
   "source": [
    "#### Read design."
   ]
  },
  {
   "cell_type": "code",
   "execution_count": 8,
   "metadata": {
    "scrolled": false
   },
   "outputs": [
    {
     "data": {
      "text/html": [
       "<ol class=list-inline>\n",
       "\t<li>10000</li>\n",
       "\t<li>32</li>\n",
       "</ol>\n"
      ],
      "text/latex": [
       "\\begin{enumerate*}\n",
       "\\item 10000\n",
       "\\item 32\n",
       "\\end{enumerate*}\n"
      ],
      "text/markdown": [
       "1. 10000\n",
       "2. 32\n",
       "\n",
       "\n"
      ],
      "text/plain": [
       "[1] 10000    32"
      ]
     },
     "metadata": {},
     "output_type": "display_data"
    }
   ],
   "source": [
    "z.design <- fread(\"design-si.tsv\")\n",
    "z.design %>% dim"
   ]
  },
  {
   "cell_type": "markdown",
   "metadata": {},
   "source": [
    "#### Read inputs."
   ]
  },
  {
   "cell_type": "code",
   "execution_count": 9,
   "metadata": {
    "scrolled": false
   },
   "outputs": [
    {
     "data": {
      "text/html": [
       "<ol class=list-inline>\n",
       "\t<li>10000</li>\n",
       "\t<li>33</li>\n",
       "</ol>\n"
      ],
      "text/latex": [
       "\\begin{enumerate*}\n",
       "\\item 10000\n",
       "\\item 33\n",
       "\\end{enumerate*}\n"
      ],
      "text/markdown": [
       "1. 10000\n",
       "2. 33\n",
       "\n",
       "\n"
      ],
      "text/plain": [
       "[1] 10000    33"
      ]
     },
     "metadata": {},
     "output_type": "display_data"
    }
   ],
   "source": [
    "z.inputs <- fread(\"inputs-si.tsv\")\n",
    "z.inputs %>% dim"
   ]
  },
  {
   "cell_type": "markdown",
   "metadata": {},
   "source": [
    "#### Read outputs."
   ]
  },
  {
   "cell_type": "code",
   "execution_count": 10,
   "metadata": {
    "scrolled": false
   },
   "outputs": [
    {
     "ename": "ERROR",
     "evalue": "Error in fread(\"outputs-si.tsv\"): File 'outputs-si.tsv' does not exist or is non-readable. getwd()=='/home/bbush/Projects/Active/bioproducts/BioproductTransitionDynamics/sensitivity'\n",
     "output_type": "error",
     "traceback": [
      "Error in fread(\"outputs-si.tsv\"): File 'outputs-si.tsv' does not exist or is non-readable. getwd()=='/home/bbush/Projects/Active/bioproducts/BioproductTransitionDynamics/sensitivity'\nTraceback:\n",
      "1. fread(\"outputs-si.tsv\")",
      "2. stop(\"File '\", file, \"' does not exist or is non-readable. getwd()=='\", \n .     getwd(), \"'\")"
     ]
    }
   ],
   "source": [
    "z.outputs <- fread(\"outputs-si.tsv\")\n",
    "z.outputs[Time == 2050] %>% dim"
   ]
  },
  {
   "cell_type": "code",
   "execution_count": null,
   "metadata": {
    "scrolled": false
   },
   "outputs": [],
   "source": [
    "z.outputs[Time == 2050] %>% summary"
   ]
  },
  {
   "cell_type": "markdown",
   "metadata": {},
   "source": [
    "### Compute sensitivity indices."
   ]
  },
  {
   "cell_type": "markdown",
   "metadata": {},
   "source": [
    "#### Just use the final year."
   ]
  },
  {
   "cell_type": "code",
   "execution_count": null,
   "metadata": {},
   "outputs": [],
   "source": [
    "z.outputs.clean <- z.outputs[order(Run)][`Time` == 2050, c(-1, -2)] %>% as.matrix\n",
    "z.outputs.clean %>% dim"
   ]
  }
 ],
 "metadata": {
  "kernelspec": {
   "display_name": "R",
   "language": "R",
   "name": "ir"
  },
  "language_info": {
   "codemirror_mode": "r",
   "file_extension": ".r",
   "mimetype": "text/x-r-source",
   "name": "R",
   "pygments_lexer": "r",
   "version": "3.6.1"
  }
 },
 "nbformat": 4,
 "nbformat_minor": 2
}
