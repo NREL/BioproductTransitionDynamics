{
 "cells": [
  {
   "cell_type": "markdown",
   "metadata": {},
   "source": [
    "# Elementary Effects for the BTD Model"
   ]
  },
  {
   "cell_type": "markdown",
   "metadata": {},
   "source": [
    "## Setup packages."
   ]
  },
  {
   "cell_type": "code",
   "execution_count": 78,
   "metadata": {
    "scrolled": false
   },
   "outputs": [
    {
     "name": "stderr",
     "output_type": "stream",
     "text": [
      "Loading required package: ggplot2\n"
     ]
    }
   ],
   "source": [
    "require(data.table)\n",
    "require(magrittr)\n",
    "require(sensitivity)\n",
    "\n",
    "require(ggplot2)"
   ]
  },
  {
   "cell_type": "markdown",
   "metadata": {},
   "source": [
    "## Design experiment."
   ]
  },
  {
   "cell_type": "markdown",
   "metadata": {},
   "source": [
    "### Load input ranges."
   ]
  },
  {
   "cell_type": "code",
   "execution_count": 2,
   "metadata": {
    "scrolled": true
   },
   "outputs": [
    {
     "data": {
      "text/html": [
       "<ol class=list-inline>\n",
       "\t<li>58</li>\n",
       "\t<li>6</li>\n",
       "</ol>\n"
      ],
      "text/latex": [
       "\\begin{enumerate*}\n",
       "\\item 58\n",
       "\\item 6\n",
       "\\end{enumerate*}\n"
      ],
      "text/markdown": [
       "1. 58\n",
       "2. 6\n",
       "\n",
       "\n"
      ],
      "text/plain": [
       "[1] 58  6"
      ]
     },
     "metadata": {},
     "output_type": "display_data"
    }
   ],
   "source": [
    "z.ranges <- fread(\"input-ranges.tsv\")\n",
    "z.ranges %>% dim"
   ]
  },
  {
   "cell_type": "code",
   "execution_count": 3,
   "metadata": {},
   "outputs": [
    {
     "data": {},
     "metadata": {},
     "output_type": "display_data"
    },
    {
     "data": {},
     "metadata": {},
     "output_type": "display_data"
    }
   ],
   "source": [
    "z.ranges[, `:=`(Minimum = 0.6 * Default, Maximum = 1.6 * Default)]\n",
    "z.ranges[Variable == \"random stream\", `:=`(Minimum = 0, Maximum = 10)]"
   ]
  },
  {
   "cell_type": "markdown",
   "metadata": {},
   "source": [
    "### One-at a time experiment with 100 repetitions, a la Morris."
   ]
  },
  {
   "cell_type": "code",
   "execution_count": 4,
   "metadata": {
    "scrolled": false
   },
   "outputs": [
    {
     "data": {
      "text/html": [
       "<ol class=list-inline>\n",
       "\t<li>5900</li>\n",
       "\t<li>58</li>\n",
       "</ol>\n"
      ],
      "text/latex": [
       "\\begin{enumerate*}\n",
       "\\item 5900\n",
       "\\item 58\n",
       "\\end{enumerate*}\n"
      ],
      "text/markdown": [
       "1. 5900\n",
       "2. 58\n",
       "\n",
       "\n"
      ],
      "text/plain": [
       "[1] 5900   58"
      ]
     },
     "metadata": {},
     "output_type": "display_data"
    }
   ],
   "source": [
    "z.design <- morris(\n",
    "    NULL,\n",
    "    factors = z.ranges$Variable,\n",
    "    r = 100,\n",
    "    design = list(\n",
    "        type = \"oat\",\n",
    "        levels = mapply(function(t, x0, x1) {\n",
    "            if (t == \"Integer\")\n",
    "                x1 - x0 + 1\n",
    "            else if (t == \"Boolean\")\n",
    "                2\n",
    "            else\n",
    "                5\n",
    "        }, z.ranges$Type, z.ranges$Minimum, z.ranges$Maximum),\n",
    "        grid.jump = 1\n",
    "    )\n",
    ")\n",
    "z.design$X %>% dim"
   ]
  },
  {
   "cell_type": "code",
   "execution_count": 5,
   "metadata": {},
   "outputs": [],
   "source": [
    "write.table(z.design$X, file = \"design.tsv\", row.names = FALSE, col.names = TRUE, sep = \"\\t\", quote = FALSE)"
   ]
  },
  {
   "cell_type": "markdown",
   "metadata": {},
   "source": [
    "### Relate the design to the model's variables."
   ]
  },
  {
   "cell_type": "code",
   "execution_count": 6,
   "metadata": {
    "scrolled": false
   },
   "outputs": [
    {
     "data": {
      "text/plain": [
       "      Run       advertising budget aversion to NPV deviation\n",
       " Min.   :   1   Min.   :300000     Min.   :0.120            \n",
       " 1st Qu.:1476   1st Qu.:425000     1st Qu.:0.170            \n",
       " Median :2950   Median :550000     Median :0.220            \n",
       " Mean   :2950   Mean   :539407     Mean   :0.219            \n",
       " 3rd Qu.:4425   3rd Qu.:675000     3rd Qu.:0.270            \n",
       " Max.   :5900   Max.   :800000     Max.   :0.320            \n",
       " base external investor ask rate bioproduct long term price\n",
       " Min.   : 4.800                  Min.   :3000              \n",
       " 1st Qu.: 6.800                  1st Qu.:4250              \n",
       " Median : 8.800                  Median :5500              \n",
       " Mean   : 8.999                  Mean   :5287              \n",
       " 3rd Qu.:10.800                  3rd Qu.:6750              \n",
       " Max.   :12.800                  Max.   :8000              \n",
       " bioproduct offtake agreement bioproduct performance advantage\n",
       " Min.   :0.3000               Min.   :0.600                   \n",
       " 1st Qu.:0.4250               1st Qu.:0.850                   \n",
       " Median :0.5500               Median :1.100                   \n",
       " Mean   :0.5433               Mean   :1.109                   \n",
       " 3rd Qu.:0.6750               3rd Qu.:1.350                   \n",
       " Max.   :0.8000               Max.   :1.600                   \n",
       " bioproduct price fluctuations bioproduct price reversion time\n",
       " Min.   :0                     Min.   :0.600                  \n",
       " 1st Qu.:0                     1st Qu.:0.850                  \n",
       " Median :0                     Median :1.100                  \n",
       " Mean   :0                     Mean   :1.109                  \n",
       " 3rd Qu.:0                     3rd Qu.:1.350                  \n",
       " Max.   :0                     Max.   :1.600                  \n",
       " commercial capital cost input commercial fixed operating cost input\n",
       " Min.   :7.520e+08             Min.   :16200000                     \n",
       " 1st Qu.:1.065e+09             1st Qu.:22950000                     \n",
       " Median :1.379e+09             Median :29700000                     \n",
       " Mean   :1.415e+09             Mean   :29026144                     \n",
       " 3rd Qu.:1.692e+09             3rd Qu.:36450000                     \n",
       " Max.   :2.005e+09             Max.   :43200000                     \n",
       " commercial plant capacity commercial plant capacity input\n",
       " Min.   : 438288           Min.   : 438288                \n",
       " 1st Qu.: 620908           1st Qu.: 620908                \n",
       " Median : 803528           Median : 803528                \n",
       " Mean   : 800990           Mean   : 774959                \n",
       " 3rd Qu.: 986148           3rd Qu.: 986148                \n",
       " Max.   :1168768           Max.   :1168768                \n",
       " commercial plant startup period commercial process yield input\n",
       " Min.   :1.800                   Min.   :0.2454                \n",
       " 1st Qu.:2.550                   1st Qu.:0.3477                \n",
       " Median :3.300                   Median :0.4499                \n",
       " Mean   :3.159                   Mean   :0.4453                \n",
       " 3rd Qu.:4.050                   3rd Qu.:0.5522                \n",
       " Max.   :4.800                   Max.   :0.6544                \n",
       " commercial variable operating cost input\n",
       " Min.   : 453.7                          \n",
       " 1st Qu.: 642.7                          \n",
       " Median : 831.7                          \n",
       " Mean   : 824.6                          \n",
       " 3rd Qu.:1020.8                          \n",
       " Max.   :1209.8                          \n",
       " custom feedstock long term price change\n",
       " Min.   :0                              \n",
       " 1st Qu.:0                              \n",
       " Median :0                              \n",
       " Mean   :0                              \n",
       " 3rd Qu.:0                              \n",
       " Max.   :0                              \n",
       " custom feedstock maximum fluctuation magnitude\n",
       " Min.   :0.2850                                \n",
       " 1st Qu.:0.4037                                \n",
       " Median :0.5225                                \n",
       " Mean   :0.5335                                \n",
       " 3rd Qu.:0.6412                                \n",
       " Max.   :0.7600                                \n",
       " custom feedstock periodic fluctuation magnitude\n",
       " Min.   :2.100                                  \n",
       " 1st Qu.:2.975                                  \n",
       " Median :3.850                                  \n",
       " Mean   :3.868                                  \n",
       " 3rd Qu.:4.725                                  \n",
       " Max.   :5.600                                  \n",
       " custom feedstock reversion time custom feedstock starting price\n",
       " Min.   :0.600                   Min.   : 42.00                 \n",
       " 1st Qu.:0.850                   1st Qu.: 59.50                 \n",
       " Median :1.100                   Median : 77.00                 \n",
       " Mean   :1.068                   Mean   : 75.05                 \n",
       " 3rd Qu.:1.350                   3rd Qu.: 94.50                 \n",
       " Max.   :1.600                   Max.   :112.00                 \n",
       " elasticity of demand elasticity of supply\n",
       " Min.   :0.600        Min.   :0.60        \n",
       " 1st Qu.:0.850        1st Qu.:0.85        \n",
       " Median :1.100        Median :1.10        \n",
       " Mean   :1.091        Mean   :1.06        \n",
       " 3rd Qu.:1.350        3rd Qu.:1.35        \n",
       " Max.   :1.600        Max.   :1.60        \n",
       " expected continuity of government policy expected green premium\n",
       " Min.   :0.600                            Min.   :0             \n",
       " 1st Qu.:0.850                            1st Qu.:0             \n",
       " Median :1.100                            Median :0             \n",
       " Mean   :1.066                            Mean   :0             \n",
       " 3rd Qu.:1.350                            3rd Qu.:0             \n",
       " Max.   :1.600                            Max.   :0             \n",
       " feedstock approval maximum cost feedstock approval maximum time\n",
       " Min.   : 600000                 Min.   :3.000                  \n",
       " 1st Qu.: 850000                 1st Qu.:4.250                  \n",
       " Median :1100000                 Median :5.500                  \n",
       " Mean   :1123686                 Mean   :5.386                  \n",
       " 3rd Qu.:1350000                 3rd Qu.:6.750                  \n",
       " Max.   :1600000                 Max.   :8.000                  \n",
       " feedstock approval required switch government capital cost share\n",
       " Min.   :0.600                      Min.   :0.600                \n",
       " 1st Qu.:0.600                      1st Qu.:0.850                \n",
       " Median :0.600                      Median :1.100                \n",
       " Mean   :1.092                      Mean   :1.085                \n",
       " 3rd Qu.:1.600                      3rd Qu.:1.350                \n",
       " Max.   :1.600                      Max.   :1.600                \n",
       " government operating cost share government operating grant period\n",
       " Min.   :0.3000                  Min.   :0.900                    \n",
       " 1st Qu.:0.4250                  1st Qu.:1.275                    \n",
       " Median :0.5500                  Median :1.650                    \n",
       " Mean   :0.5571                  Mean   :1.662                    \n",
       " 3rd Qu.:0.6750                  3rd Qu.:2.025                    \n",
       " Max.   :0.8000                  Max.   :2.400                    \n",
       " government production incentive government research cost share\n",
       " Min.   :0                       Min.   :0.3000                \n",
       " 1st Qu.:0                       1st Qu.:0.4250                \n",
       " Median :0                       Median :0.5500                \n",
       " Mean   :0                       Mean   :0.5571                \n",
       " 3rd Qu.:0                       3rd Qu.:0.6750                \n",
       " Max.   :0                       Max.   :0.8000                \n",
       " incumbent long term price trend incumbent market share target economic\n",
       " Min.   :0.060                   Min.   :0.2400                        \n",
       " 1st Qu.:0.085                   1st Qu.:0.3400                        \n",
       " Median :0.110                   Median :0.4400                        \n",
       " Mean   :0.111                   Mean   :0.4231                        \n",
       " 3rd Qu.:0.135                   3rd Qu.:0.5400                        \n",
       " Max.   :0.160                   Max.   :0.6400                        \n",
       " incumbent maximum fluctuation incumbent price response magnitude\n",
       " Min.   :0.03000               Min.   :0.1200                    \n",
       " 1st Qu.:0.04250               1st Qu.:0.1700                    \n",
       " Median :0.05500               Median :0.2200                    \n",
       " Mean   :0.05657               Mean   :0.2217                    \n",
       " 3rd Qu.:0.06750               3rd Qu.:0.2700                    \n",
       " Max.   :0.08000               Max.   :0.3200                    \n",
       " incumbent reversion time incumbent starting price initial market size\n",
       " Min.   :0.060            Min.   : 960             Min.   : 600000    \n",
       " 1st Qu.:0.085            1st Qu.:1360             1st Qu.: 850000    \n",
       " Median :0.110            Median :1760             Median :1100000    \n",
       " Mean   :0.100            Mean   :1742             Mean   :1062542    \n",
       " 3rd Qu.:0.110            3rd Qu.:2160             3rd Qu.:1350000    \n",
       " Max.   :0.160            Max.   :2560             Max.   :1600000    \n",
       " investor optimism long term market size market growth rate\n",
       " Min.   :0.600     Min.   :18000         Min.   :0.00600   \n",
       " 1st Qu.:0.850     1st Qu.:25500         1st Qu.:0.00850   \n",
       " Median :1.100     Median :33000         Median :0.01100   \n",
       " Mean   :1.074     Mean   :32636         Mean   :0.01087   \n",
       " 3rd Qu.:1.350     3rd Qu.:40500         3rd Qu.:0.01350   \n",
       " Max.   :1.600     Max.   :48000         Max.   :0.01600   \n",
       " pathway approval maximum cost pathway approval maximum time\n",
       " Min.   : 600000               Min.   :3.000                \n",
       " 1st Qu.: 850000               1st Qu.:4.250                \n",
       " Median :1100000               Median :5.500                \n",
       " Mean   :1098729               Mean   :5.489                \n",
       " 3rd Qu.:1350000               3rd Qu.:6.750                \n",
       " Max.   :1600000               Max.   :8.000                \n",
       " pathway approval required switch payback period multiplier\n",
       " Min.   :0.600                    Min.   :0.600            \n",
       " 1st Qu.:0.600                    1st Qu.:0.850            \n",
       " Median :1.600                    Median :1.100            \n",
       " Mean   :1.104                    Mean   :1.136            \n",
       " 3rd Qu.:1.600                    3rd Qu.:1.350            \n",
       " Max.   :1.600                    Max.   :1.600            \n",
       " product approval maximum cost product approval maximum time\n",
       " Min.   : 600000               Min.   :3.000                \n",
       " 1st Qu.: 850000               1st Qu.:4.250                \n",
       " Median :1100000               Median :5.500                \n",
       " Mean   :1071992               Mean   :5.583                \n",
       " 3rd Qu.:1350000               3rd Qu.:6.750                \n",
       " Max.   :1600000               Max.   :8.000                \n",
       " product approval required switch random stream   \n",
       " Min.   :0.600                    Min.   : 0.000  \n",
       " 1st Qu.:0.600                    1st Qu.: 2.000  \n",
       " Median :0.600                    Median : 4.000  \n",
       " Mean   :1.058                    Mean   : 4.618  \n",
       " 3rd Qu.:1.600                    3rd Qu.: 7.000  \n",
       " Max.   :1.600                    Max.   :10.000  \n",
       " regulatory process starting point required internal return\n",
       " Min.   :0.4500                    Min.   :0.04800         \n",
       " 1st Qu.:0.6375                    1st Qu.:0.06800         \n",
       " Median :0.8250                    Median :0.08800         \n",
       " Mean   :0.8082                    Mean   :0.08819         \n",
       " 3rd Qu.:1.0125                    3rd Qu.:0.10800         \n",
       " Max.   :1.2000                    Max.   :0.12800         \n",
       " required return multiplier retrofit delay   stagegate length\n",
       " Min.   :0.600              Min.   :0.3000   Min.   :0.600   \n",
       " 1st Qu.:0.850              1st Qu.:0.4250   1st Qu.:0.850   \n",
       " Median :1.100              Median :0.5500   Median :1.100   \n",
       " Mean   :1.112              Mean   :0.5312   Mean   :1.096   \n",
       " 3rd Qu.:1.350              3rd Qu.:0.6750   3rd Qu.:1.350   \n",
       " Max.   :1.600              Max.   :0.8000   Max.   :1.600   \n",
       " strategic value to external investors target demo hours target pilot hours\n",
       " Min.   :0                             Min.   :3000      Min.   :1800      \n",
       " 1st Qu.:0                             1st Qu.:4250      1st Qu.:2550      \n",
       " Median :0                             Median :5500      Median :3300      \n",
       " Mean   :0                             Mean   :5615      Mean   :3402      \n",
       " 3rd Qu.:0                             3rd Qu.:6750      3rd Qu.:4050      \n",
       " Max.   :0                             Max.   :8000      Max.   :4800      "
      ]
     },
     "metadata": {},
     "output_type": "display_data"
    }
   ],
   "source": [
    "z.inputs <- cbind(\n",
    "    Run = 1:(dim(z.design$X)[1]),\n",
    "    data.table(\n",
    "        sweep(\n",
    "            sweep(z.design$X, MARGIN = 2, z.ranges$Maximum - z.ranges$Minimum, `*`),\n",
    "            MARGIN = 2,\n",
    "            z.ranges$Minimum,\n",
    "            `+`\n",
    "        )\n",
    "    )\n",
    ")\n",
    "z.inputs %>% summary"
   ]
  },
  {
   "cell_type": "code",
   "execution_count": 7,
   "metadata": {},
   "outputs": [],
   "source": [
    "write.table(z.inputs, file=\"inputs.tsv\", row.names = FALSE, col.names = TRUE, sep = \"\\t\", quote = FALSE)"
   ]
  },
  {
   "cell_type": "markdown",
   "metadata": {},
   "source": [
    "## Analyze results."
   ]
  },
  {
   "cell_type": "markdown",
   "metadata": {},
   "source": [
    "### Read design."
   ]
  },
  {
   "cell_type": "code",
   "execution_count": 88,
   "metadata": {
    "scrolled": false
   },
   "outputs": [
    {
     "data": {
      "text/html": [
       "<ol class=list-inline>\n",
       "\t<li>5900</li>\n",
       "\t<li>58</li>\n",
       "</ol>\n"
      ],
      "text/latex": [
       "\\begin{enumerate*}\n",
       "\\item 5900\n",
       "\\item 58\n",
       "\\end{enumerate*}\n"
      ],
      "text/markdown": [
       "1. 5900\n",
       "2. 58\n",
       "\n",
       "\n"
      ],
      "text/plain": [
       "[1] 5900   58"
      ]
     },
     "metadata": {},
     "output_type": "display_data"
    }
   ],
   "source": [
    "z.design <- fread(\"design.tsv\")\n",
    "z.design %>% dim"
   ]
  },
  {
   "cell_type": "markdown",
   "metadata": {},
   "source": [
    "### Read inputs."
   ]
  },
  {
   "cell_type": "code",
   "execution_count": 5,
   "metadata": {
    "scrolled": false
   },
   "outputs": [
    {
     "data": {
      "text/html": [
       "<ol class=list-inline>\n",
       "\t<li>5900</li>\n",
       "\t<li>59</li>\n",
       "</ol>\n"
      ],
      "text/latex": [
       "\\begin{enumerate*}\n",
       "\\item 5900\n",
       "\\item 59\n",
       "\\end{enumerate*}\n"
      ],
      "text/markdown": [
       "1. 5900\n",
       "2. 59\n",
       "\n",
       "\n"
      ],
      "text/plain": [
       "[1] 5900   59"
      ]
     },
     "metadata": {},
     "output_type": "display_data"
    }
   ],
   "source": [
    "z.inputs <- fread(\"inputs.tsv\")\n",
    "z.inputs %>% dim"
   ]
  },
  {
   "cell_type": "markdown",
   "metadata": {},
   "source": [
    "### Read outputs."
   ]
  },
  {
   "cell_type": "code",
   "execution_count": 6,
   "metadata": {
    "scrolled": false
   },
   "outputs": [
    {
     "data": {
      "text/plain": [
       "      Run            Time      abandoning bioproduct actual net income   \n",
       " Min.   :   1   Min.   :2050   Min.   :0             Min.   :-1.054e+09  \n",
       " 1st Qu.:1490   1st Qu.:2050   1st Qu.:0             1st Qu.: 0.000e+00  \n",
       " Median :3018   Median :2050   Median :0             Median : 0.000e+00  \n",
       " Mean   :2976   Mean   :2050   Mean   :0             Mean   : 8.467e+08  \n",
       " 3rd Qu.:4462   3rd Qu.:2050   3rd Qu.:0             3rd Qu.: 0.000e+00  \n",
       " Max.   :5900   Max.   :2050   Max.   :0             Max.   : 9.175e+09  \n",
       " bioproduct favorability indicator bioproduct market share economic\n",
       " Min.   :0                         Min.   :-31.4743                \n",
       " 1st Qu.:0                         1st Qu.:  0.3758                \n",
       " Median :0                         Median :  0.5077                \n",
       " Mean   :0                         Mean   :  0.8113                \n",
       " 3rd Qu.:0                         3rd Qu.:  0.6740                \n",
       " Max.   :0                         Max.   : 30.0885                \n",
       " bioproduct market share mass bioproduct selling price with green premium\n",
       " Min.   :-1292800.0           Min.   : 2000                              \n",
       " 1st Qu.:       0.2           1st Qu.: 3000                              \n",
       " Median :       0.3           Median : 3903                              \n",
       " Mean   :    -866.5           Mean   : 4450                              \n",
       " 3rd Qu.:       0.4           3rd Qu.: 5331                              \n",
       " Max.   :       1.1           Max.   :10000                              \n",
       "   BS assets            BS equity          commercial plant is built\n",
       " Min.   :-2.371e+08   Min.   :-2.371e+08   Min.   :0.0000           \n",
       " 1st Qu.: 6.432e+08   1st Qu.: 6.432e+08   1st Qu.:0.0000           \n",
       " Median : 1.773e+09   Median : 1.773e+09   Median :0.0000           \n",
       " Mean   : 6.836e+09   Mean   : 6.836e+09   Mean   :0.2463           \n",
       " 3rd Qu.: 4.220e+09   3rd Qu.: 4.220e+09   3rd Qu.:0.0000           \n",
       " Max.   : 1.053e+11   Max.   : 1.053e+11   Max.   :1.0000           \n",
       " commercial plant operation Completed Demoing Completed Piloting\n",
       " Min.   :0.0000             Min.   :     0    Min.   :     0    \n",
       " 1st Qu.:0.0000             1st Qu.:  9907    1st Qu.: 11398    \n",
       " Median :0.0000             Median : 20077    Median : 22799    \n",
       " Mean   :0.2357             Mean   : 25494    Mean   : 29753    \n",
       " 3rd Qu.:0.0000             3rd Qu.: 35991    3rd Qu.: 42997    \n",
       " Max.   :1.0000             Max.   :108294    Max.   :135034    \n",
       " Cumulative Demoing Production Cumulative Production Current Bioproduct Price\n",
       " Min.   :      0               Min.   :       0      Min.   : 2000           \n",
       " 1st Qu.: 172813               1st Qu.:  196797      1st Qu.: 3000           \n",
       " Median : 370138               Median :  513346      Median : 3903           \n",
       " Mean   : 478561               Mean   : 2193806      Mean   : 4450           \n",
       " 3rd Qu.: 678898               3rd Qu.: 1692658      3rd Qu.: 5331           \n",
       " Max.   :2081730               Max.   :21236500      Max.   :10000           \n",
       " Current Custom Feedstock Price current market size economic\n",
       " Min.   : -7.039                Min.   :-2.719e+15          \n",
       " 1st Qu.: 42.131                1st Qu.: 2.273e+09          \n",
       " Median : 61.487                Median : 3.361e+09          \n",
       " Mean   : 62.516                Mean   :-9.240e+11          \n",
       " 3rd Qu.: 80.723                3rd Qu.: 4.544e+09          \n",
       " Max.   :135.896                Max.   : 1.186e+10          \n",
       " current market size mass demoing complete demoing progress feedstock price\n",
       " Min.   : 504913          Min.   :0.0000   Min.   :0.0000   Min.   :544.7  \n",
       " 1st Qu.:1009820          1st Qu.:0.0000   1st Qu.:0.0000   1st Qu.:580.2  \n",
       " Median :1346440          Median :0.0000   Median :0.3767   Median :598.3  \n",
       " Mean   :1537888          Mean   :0.4394   Mean   :0.4904   Mean   :598.1  \n",
       " 3rd Qu.:1901730          3rd Qu.:1.0000   3rd Qu.:1.0000   3rd Qu.:615.8  \n",
       " Max.   :4667810          Max.   :1.0000   Max.   :1.0000   Max.   :681.8  \n",
       " granting decision hypothetical net income idealized NPV       \n",
       " Min.   :0.0000    Min.   :-2.205e+09      Min.   :-6.716e+09  \n",
       " 1st Qu.:0.0000    1st Qu.: 6.659e+08      1st Qu.: 4.419e+08  \n",
       " Median :1.0000    Median : 1.319e+09      Median : 1.613e+09  \n",
       " Mean   :0.5839    Mean   : 1.675e+09      Mean   : 4.474e+09  \n",
       " 3rd Qu.:1.0000    3rd Qu.: 2.241e+09      3rd Qu.: 5.352e+09  \n",
       " Max.   :1.0000    Max.   : 9.175e+09      Max.   : 3.691e+10  \n",
       " internal project cancelled indicator IS net income       \n",
       " Min.   :0                            Min.   :-195189000  \n",
       " 1st Qu.:0                            1st Qu.: -35348500  \n",
       " Median :0                            Median :  -1659070  \n",
       " Mean   :0                            Mean   : 594575452  \n",
       " 3rd Qu.:0                            3rd Qu.: 364262250  \n",
       " Max.   :0                            Max.   :6358370000  \n",
       " long term market share long term market value\n",
       " Min.   :0.0000         Min.   :       0      \n",
       " 1st Qu.:0.2405         1st Qu.:      16      \n",
       " Median :0.3968         Median :    5078      \n",
       " Mean   :0.3639         Mean   :  517147      \n",
       " 3rd Qu.:0.5127         3rd Qu.:   89068      \n",
       " Max.   :0.7787         Max.   :32037200      \n",
       " minimum selling price without green premium payback period    \n",
       " Min.   :1351                                Min.   :   0.000  \n",
       " 1st Qu.:1935                                1st Qu.:   0.000  \n",
       " Median :2228                                Median :   4.960  \n",
       " Mean   :2333                                Mean   :   7.298  \n",
       " 3rd Qu.:2633                                3rd Qu.:   9.619  \n",
       " Max.   :3887                                Max.   :1172.180  \n",
       " piloting complete piloting progress   production      profitability indicator\n",
       " Min.   :0.0000    Min.   :0.0000    Min.   :      0   Min.   :0.0000         \n",
       " 1st Qu.:1.0000    1st Qu.:1.0000    1st Qu.:      0   1st Qu.:1.0000         \n",
       " Median :1.0000    Median :1.0000    Median :      0   Median :1.0000         \n",
       " Mean   :0.8375    Mean   :0.8386    Mean   : 213209   Mean   :0.8906         \n",
       " 3rd Qu.:1.0000    3rd Qu.:1.0000    3rd Qu.: 170079   3rd Qu.:1.0000         \n",
       " Max.   :1.0000    Max.   :1.0000    Max.   :1168770   Max.   :1.0000         \n",
       " Regulatory Costs    smoothed NPV        Stagegates Missed Stages Remaining \n",
       " Min.   :-1130240   Min.   :-3.375e+09   Min.   :0         Min.   :-1.0000  \n",
       " 1st Qu.:  -36625   1st Qu.: 4.731e+08   1st Qu.:0         1st Qu.: 0.0000  \n",
       " Median :       0   Median : 1.487e+09   Median :0         Median : 0.0000  \n",
       " Mean   :  208298   Mean   : 3.515e+09   Mean   :0         Mean   :-0.0196  \n",
       " 3rd Qu.:  453533   3rd Qu.: 3.751e+09   3rd Qu.:0         3rd Qu.: 0.0000  \n",
       " Max.   : 3263210   Max.   : 3.049e+10   Max.   :0         Max.   : 0.0000  \n",
       " technology readiness level total approval cost total approval time\n",
       " Min.   :6.000              Min.   :-1130240    Min.   :-1.220     \n",
       " 1st Qu.:7.000              1st Qu.:  -36625    1st Qu.: 3.511     \n",
       " Median :7.753              Median :  638385    Median : 5.611     \n",
       " Mean   :7.819              Mean   :  707667    Mean   : 6.092     \n",
       " 3rd Qu.:9.000              3rd Qu.: 1263920    3rd Qu.: 8.549     \n",
       " Max.   :9.000              Max.   : 3786160    Max.   :22.180     \n",
       " Total Government Grants Total Investment    Working Capital     \n",
       " Min.   :0.000e+00       Min.   :3.000e+06   Min.   :-2.371e+08  \n",
       " 1st Qu.:0.000e+00       1st Qu.:1.691e+08   1st Qu.: 6.432e+08  \n",
       " Median :1.112e+09       Median :6.443e+08   Median : 1.773e+09  \n",
       " Mean   :1.574e+09       Mean   :7.239e+08   Mean   : 6.836e+09  \n",
       " 3rd Qu.:2.597e+09       3rd Qu.:1.048e+09   3rd Qu.: 4.220e+09  \n",
       " Max.   :8.902e+09       Max.   :3.407e+09   Max.   : 1.053e+11  "
      ]
     },
     "metadata": {},
     "output_type": "display_data"
    }
   ],
   "source": [
    "z.outputs <- fread(\"outputs.tsv\")\n",
    "z.outputs[Time == 2050] %>% summary"
   ]
  },
  {
   "cell_type": "markdown",
   "metadata": {},
   "source": [
    "### Clean up outputs by filling in missing results with zero cumulative production."
   ]
  },
  {
   "cell_type": "code",
   "execution_count": 51,
   "metadata": {},
   "outputs": [
    {
     "data": {
      "text/plain": [
       "    Min.  1st Qu.   Median     Mean  3rd Qu.     Max. \n",
       "       0   172776   489195  2086718  1643970 21236500 "
      ]
     },
     "metadata": {},
     "output_type": "display_data"
    }
   ],
   "source": [
    "z.outputs.clean <- z.outputs[`Time` == 2050, .(Run, `Cumulative Production`)]\n",
    "z.outputs.clean <- rbind(\n",
    "    z.outputs.clean,\n",
    "    data.table(Run = setdiff(1:5900, z.outputs[`Time` == 2050, `Run`]), `Cumulative Production` = 0)\n",
    ")[order(Run)]$`Cumulative Production`\n",
    "z.outputs.clean %>% summary"
   ]
  },
  {
   "cell_type": "markdown",
   "metadata": {},
   "source": [
    "### Define functions to compute elementary effects."
   ]
  },
  {
   "cell_type": "code",
   "execution_count": 20,
   "metadata": {},
   "outputs": [],
   "source": [
    "ind.rep <- function(i, p) {\n",
    "# indices of the points of the ith trajectory in the DoE\n",
    "  (1 : (p + 1)) + (i - 1) * (p + 1)\n",
    "}\n",
    "\n",
    "ee.oat <- function(X, y) {\n",
    "  # compute the elementary effects for a OAT design\n",
    "  p <- ncol(X)\n",
    "  r <- nrow(X) / (p + 1)\n",
    "  \n",
    "#  if(is(y,\"numeric\")){\n",
    "  if(inherits(y, \"numeric\")){\n",
    "    one_i_vector <- function(i){\n",
    "      j <- ind.rep(i, p)\n",
    "      j1 <- j[1 : p]\n",
    "      j2 <- j[2 : (p + 1)]\n",
    "      # return((y[j2] - y[j1]) / rowSums(X[j2,] - X[j1,]))\n",
    "      return(solve(X[j2,] - X[j1,], y[j2] - y[j1]))\n",
    "    }\n",
    "    ee <- vapply(1:r, one_i_vector, FUN.VALUE = numeric(p))\n",
    "    ee <- t(ee)\n",
    "    # \"ee\" is now a (r times p)-matrix.\n",
    "#  } else if(is(y,\"matrix\")){\n",
    "  } else if(inherits(y, \"matrix\")){\n",
    "    one_i_matrix <- function(i){\n",
    "      j <- ind.rep(i, p)\n",
    "      j1 <- j[1 : p]\n",
    "      j2 <- j[2 : (p + 1)]\n",
    "      return(solve(X[j2,] - X[j1,], \n",
    "                   y[j2, , drop = FALSE] - y[j1, , drop = FALSE]))\n",
    "    }\n",
    "    ee <- vapply(1:r, one_i_matrix, \n",
    "                 FUN.VALUE = matrix(0, nrow = p, ncol = dim(y)[2]))\n",
    "    # Special case handling for p == 1 and ncol(y) == 1 (in this case, \"ee\" is\n",
    "    # a vector of length \"r\"):\n",
    "    if(p == 1 && dim(y)[2] == 1){\n",
    "      ee <- array(ee, dim = c(r, 1, 1))\n",
    "    }\n",
    "    # Transpose \"ee\" (an array of dimensions c(p, ncol(y), r)) to an array of\n",
    "    # dimensions c(r, p, ncol(y)) (for better consistency with the standard \n",
    "    # case that \"class(y) == \"numeric\"\"):\n",
    "    ee <- aperm(ee, perm = c(3, 1, 2))\n",
    "#  } else if(is(y,\"array\")){\n",
    "  } else if(inherits(y, \"array\")){\n",
    "    one_i_array <- function(i){\n",
    "      j <- ind.rep(i, p)\n",
    "      j1 <- j[1 : p]\n",
    "      j2 <- j[2 : (p + 1)]\n",
    "      ee_per_3rd_dim <- sapply(1:(dim(y)[3]), function(idx_3rd_dim){\n",
    "        y_j2_matrix <- y[j2, , idx_3rd_dim]\n",
    "        y_j1_matrix <- y[j1, , idx_3rd_dim]\n",
    "        # Here, the result of \"solve(...)\" is a (p times dim(y)[2])-matrix or\n",
    "        # a vector of length dim(y)[2] (if p == 1):\n",
    "        solve(X[j2,] - X[j1,], y_j2_matrix - y_j1_matrix)\n",
    "      }, simplify = \"array\")\n",
    "      if(dim(y)[2] == 1){\n",
    "        # Correction needed if dim(y)[2] == 1, so \"y_j2_matrix\" and\n",
    "        # \"y_j1_matrix\" have been dropped to matrices (or even vectors, if also\n",
    "        # p == 1):\n",
    "        ee_per_3rd_dim <- array(ee_per_3rd_dim, \n",
    "                                dim = c(p, dim(y)[2], dim(y)[3]))\n",
    "      } else if(p == 1){\n",
    "        # Correction needed if p == 1 (and dim(y)[2] > 1), so \"y_j2_matrix\" and\n",
    "        # \"y_j1_matrix\" have been dropped to matrices:\n",
    "        ee_per_3rd_dim <- array(ee_per_3rd_dim, \n",
    "                                dim = c(1, dim(y)[2], dim(y)[3]))\n",
    "      }\n",
    "      # \"ee_per_3rd_dim\" is now an array of dimensions \n",
    "      # c(p, dim(y)[2], dim(y)[3]). Assign the corresponding names for the \n",
    "      # third dimension:\n",
    "      if(is.null(dimnames(ee_per_3rd_dim))){\n",
    "        dimnames(ee_per_3rd_dim) <- dimnames(y)\n",
    "      } else{\n",
    "        dimnames(ee_per_3rd_dim)[[3]] <- dimnames(y)[[3]]\n",
    "      }\n",
    "      return(ee_per_3rd_dim)\n",
    "    }\n",
    "    ee <- sapply(1:r, one_i_array, simplify = \"array\")\n",
    "    # Special case handling if \"ee\" has been dropped to a vector:\n",
    "#    if(is(ee,\"numeric\")){\n",
    "    if (inherits(ee, \"numeric\")){\n",
    "      ee <- array(ee, dim = c(p, dim(y)[2], dim(y)[3], r))\n",
    "      dimnames(ee) <- list(NULL, dimnames(y)[[2]], dimnames(y)[[3]], NULL)\n",
    "    }\n",
    "    # \"ee\" is an array of dimensions c(p, dim(y)[2], dim(y)[3], r), so it is\n",
    "    # transposed to an array of dimensions c(r, p, dim(y)[2], dim(y)[3]):\n",
    "    ee <- aperm(ee, perm = c(4, 1, 2, 3))\n",
    "  }\n",
    "  return(ee)\n",
    "}"
   ]
  },
  {
   "cell_type": "markdown",
   "metadata": {},
   "source": [
    "### Compute the elementary effects."
   ]
  },
  {
   "cell_type": "code",
   "execution_count": 54,
   "metadata": {},
   "outputs": [
    {
     "data": {
      "text/html": [
       "<ol class=list-inline>\n",
       "\t<li>100</li>\n",
       "\t<li>58</li>\n",
       "</ol>\n"
      ],
      "text/latex": [
       "\\begin{enumerate*}\n",
       "\\item 100\n",
       "\\item 58\n",
       "\\end{enumerate*}\n"
      ],
      "text/markdown": [
       "1. 100\n",
       "2. 58\n",
       "\n",
       "\n"
      ],
      "text/plain": [
       "[1] 100  58"
      ]
     },
     "metadata": {},
     "output_type": "display_data"
    }
   ],
   "source": [
    "z.ee <- ee.oat(z.design, z.outputs.clean)\n",
    "z.ee %>% dim"
   ]
  },
  {
   "cell_type": "markdown",
   "metadata": {},
   "source": [
    "### Compute mu, mu-start, and sigma."
   ]
  },
  {
   "cell_type": "code",
   "execution_count": 95,
   "metadata": {},
   "outputs": [],
   "source": [
    "z.mu <- apply(z.ee, 2, mean)\n",
    "z.mustar <- apply(z.ee, 2, function(x) mean(abs(x)))\n",
    "z.sigma <- apply(z.ee, 2, sd)\n",
    "z.result <- data.table(\n",
    "    variable = names(z.mu),\n",
    "    mu       = z.mu       ,\n",
    "    mustar   = z.mustar   ,\n",
    "    sigma    = z.sigma\n",
    ")"
   ]
  },
  {
   "cell_type": "markdown",
   "metadata": {},
   "source": [
    "### Sort the results in decreasing order of influence."
   ]
  },
  {
   "cell_type": "markdown",
   "metadata": {},
   "source": [
    "Interpretations:\n",
    "*   mu: influence of variable\n",
    "*   mustar: influence of variable, accounting for non-monoticity\n",
    "*   sigma: non-linear and interaction effects for variable"
   ]
  },
  {
   "cell_type": "code",
   "execution_count": 96,
   "metadata": {},
   "outputs": [
    {
     "data": {},
     "metadata": {},
     "output_type": "display_data"
    },
    {
     "data": {
      "text/html": [
       "<table>\n",
       "<caption>A data.table: 58 x 7</caption>\n",
       "<thead>\n",
       "\t<tr><th scope=col>variable</th><th scope=col>mu</th><th scope=col>mustar</th><th scope=col>sigma</th><th scope=col>mu rank</th><th scope=col>mustar rank</th><th scope=col>sigma rank</th></tr>\n",
       "\t<tr><th scope=col>&lt;chr&gt;</th><th scope=col>&lt;dbl&gt;</th><th scope=col>&lt;dbl&gt;</th><th scope=col>&lt;dbl&gt;</th><th scope=col>&lt;dbl&gt;</th><th scope=col>&lt;dbl&gt;</th><th scope=col>&lt;dbl&gt;</th></tr>\n",
       "</thead>\n",
       "<tbody>\n",
       "\t<tr><td>random stream                                  </td><td> -133486.42</td><td>17541350.10</td><td>32484566.2</td><td>38</td><td> 1</td><td> 1</td></tr>\n",
       "\t<tr><td>base external investor ask rate                </td><td>-1850318.17</td><td> 7348024.55</td><td>13491334.1</td><td>56</td><td> 2</td><td> 3</td></tr>\n",
       "\t<tr><td>commercial capital cost input                  </td><td>-4207966.84</td><td> 4334616.68</td><td>13694220.0</td><td>58</td><td> 3</td><td> 2</td></tr>\n",
       "\t<tr><td>regulatory process starting point              </td><td> 4174257.64</td><td> 4289612.44</td><td>12396919.7</td><td> 1</td><td> 4</td><td> 4</td></tr>\n",
       "\t<tr><td>target pilot hours                             </td><td>-2166769.50</td><td> 2862255.10</td><td> 8440518.3</td><td>57</td><td> 5</td><td> 8</td></tr>\n",
       "\t<tr><td>commercial plant capacity                      </td><td>  380346.26</td><td> 2857048.94</td><td> 8209448.8</td><td>14</td><td> 6</td><td> 9</td></tr>\n",
       "\t<tr><td>investor optimism                              </td><td>  142912.96</td><td> 2727144.16</td><td>10559358.6</td><td>22</td><td> 7</td><td> 5</td></tr>\n",
       "\t<tr><td>target demo hours                              </td><td>-1729857.01</td><td> 2321052.91</td><td> 6482473.2</td><td>55</td><td> 8</td><td>17</td></tr>\n",
       "\t<tr><td>commercial process yield input                 </td><td>-1440532.20</td><td> 2320660.68</td><td>10236436.4</td><td>54</td><td> 9</td><td> 6</td></tr>\n",
       "\t<tr><td>bioproduct long term price                     </td><td> 1159692.06</td><td> 2236895.78</td><td> 6279024.3</td><td> 2</td><td>10</td><td>18</td></tr>\n",
       "\t<tr><td>commercial plant capacity input                </td><td>  851858.12</td><td> 1796219.32</td><td> 7529511.5</td><td> 6</td><td>11</td><td>14</td></tr>\n",
       "\t<tr><td>incumbent starting price                       </td><td> -217022.16</td><td> 1444488.88</td><td> 6851897.6</td><td>41</td><td>12</td><td>16</td></tr>\n",
       "\t<tr><td>payback period multiplier                      </td><td>  997769.92</td><td> 1294443.76</td><td> 5159332.6</td><td> 4</td><td>13</td><td>22</td></tr>\n",
       "\t<tr><td>government operating grant period              </td><td> -928596.08</td><td> 1268723.28</td><td> 8169127.0</td><td>53</td><td>14</td><td>10</td></tr>\n",
       "\t<tr><td>expected continuity of government policy       </td><td>  -17641.56</td><td> 1211892.04</td><td> 5776421.8</td><td>32</td><td>15</td><td>20</td></tr>\n",
       "\t<tr><td>incumbent price response magnitude             </td><td> 1019687.20</td><td> 1199229.28</td><td> 8710859.0</td><td> 3</td><td>16</td><td> 7</td></tr>\n",
       "\t<tr><td>bioproduct performance advantage               </td><td>  928416.05</td><td> 1157809.73</td><td> 7679894.7</td><td> 5</td><td>17</td><td>12</td></tr>\n",
       "\t<tr><td>incumbent long term price trend                </td><td>  172598.68</td><td> 1061822.04</td><td> 7343278.9</td><td>20</td><td>18</td><td>15</td></tr>\n",
       "\t<tr><td>feedstock approval maximum time                </td><td> -769938.04</td><td>  882233.16</td><td> 7635764.9</td><td>52</td><td>19</td><td>13</td></tr>\n",
       "\t<tr><td>feedstock approval maximum cost                </td><td> -277612.80</td><td>  850506.40</td><td> 4775505.9</td><td>44</td><td>20</td><td>26</td></tr>\n",
       "\t<tr><td>commercial variable operating cost input       </td><td>  133407.96</td><td>  850349.32</td><td> 5044597.4</td><td>23</td><td>21</td><td>24</td></tr>\n",
       "\t<tr><td>retrofit delay                                 </td><td>  351969.48</td><td>  821691.16</td><td> 5798967.0</td><td>15</td><td>22</td><td>19</td></tr>\n",
       "\t<tr><td>incumbent maximum fluctuation                  </td><td>  758617.36</td><td>  813726.64</td><td> 7705518.0</td><td> 8</td><td>23</td><td>11</td></tr>\n",
       "\t<tr><td>product approval maximum cost                  </td><td>  778222.36</td><td>  810382.36</td><td> 4352778.7</td><td> 7</td><td>24</td><td>29</td></tr>\n",
       "\t<tr><td>required return multiplier                     </td><td>  167171.12</td><td>  801863.84</td><td> 5051895.7</td><td>21</td><td>25</td><td>23</td></tr>\n",
       "\t<tr><td>government capital cost share                  </td><td>  558948.22</td><td>  773394.70</td><td> 3956830.0</td><td>10</td><td>26</td><td>32</td></tr>\n",
       "\t<tr><td>feedstock approval required switch             </td><td> -513725.68</td><td>  753237.56</td><td> 2589536.2</td><td>48</td><td>27</td><td>39</td></tr>\n",
       "\t<tr><td>commercial plant startup period                </td><td> -657507.52</td><td>  698248.08</td><td> 4087269.1</td><td>51</td><td>28</td><td>30</td></tr>\n",
       "\t<tr><td>government production incentive                </td><td>  687119.20</td><td>  687119.20</td><td> 4897714.9</td><td> 9</td><td>29</td><td>25</td></tr>\n",
       "\t<tr><td>bioproduct offtake agreement                   </td><td>  532557.36</td><td>  631127.36</td><td> 5607602.9</td><td>11</td><td>30</td><td>21</td></tr>\n",
       "\t<tr><td>pathway approval required switch               </td><td> -535228.88</td><td>  575560.06</td><td> 1726092.4</td><td>50</td><td>31</td><td>44</td></tr>\n",
       "\t<tr><td>market growth rate                             </td><td> -519236.12</td><td>  519236.12</td><td> 4433164.2</td><td>49</td><td>32</td><td>28</td></tr>\n",
       "\t<tr><td>pathway approval maximum cost                  </td><td> -463430.32</td><td>  489200.32</td><td> 4443983.2</td><td>47</td><td>33</td><td>27</td></tr>\n",
       "\t<tr><td>incumbent market share target economic         </td><td>  465681.84</td><td>  465681.84</td><td> 3459299.6</td><td>12</td><td>34</td><td>34</td></tr>\n",
       "\t<tr><td>pathway approval maximum time                  </td><td> -421104.88</td><td>  438102.08</td><td> 2817063.5</td><td>46</td><td>35</td><td>35</td></tr>\n",
       "\t<tr><td>custom feedstock maximum fluctuation magnitude </td><td>  306006.56</td><td>  428637.36</td><td> 3622887.6</td><td>17</td><td>36</td><td>33</td></tr>\n",
       "\t<tr><td>bioproduct price fluctuations                  </td><td>  402616.00</td><td>  402616.00</td><td> 4026160.0</td><td>13</td><td>37</td><td>31</td></tr>\n",
       "\t<tr><td>product approval required switch               </td><td> -247180.23</td><td>  369063.61</td><td> 1293263.9</td><td>42</td><td>38</td><td>47</td></tr>\n",
       "\t<tr><td>bioproduct price reversion time                </td><td>  301146.72</td><td>  367441.36</td><td> 2657513.1</td><td>18</td><td>39</td><td>37</td></tr>\n",
       "\t<tr><td>custom feedstock starting price                </td><td>   28077.08</td><td>  349222.68</td><td> 2354480.8</td><td>28</td><td>40</td><td>41</td></tr>\n",
       "\t<tr><td>custom feedstock periodic fluctuation magnitude</td><td>  316337.16</td><td>  337132.52</td><td> 2783229.1</td><td>16</td><td>41</td><td>36</td></tr>\n",
       "\t<tr><td>product approval maximum time                  </td><td> -307596.04</td><td>  331842.36</td><td> 2628612.8</td><td>45</td><td>42</td><td>38</td></tr>\n",
       "\t<tr><td>advertising budget                             </td><td> -181763.40</td><td>  298441.56</td><td> 2257347.7</td><td>39</td><td>43</td><td>42</td></tr>\n",
       "\t<tr><td>stagegate length                               </td><td> -271301.04</td><td>  284275.76</td><td> 2559691.6</td><td>43</td><td>44</td><td>40</td></tr>\n",
       "\t<tr><td>custom feedstock long term price change        </td><td>  -30893.04</td><td>  234959.76</td><td> 1422994.7</td><td>36</td><td>45</td><td>45</td></tr>\n",
       "\t<tr><td>initial market size                            </td><td> -206129.72</td><td>  206129.72</td><td> 1758005.1</td><td>40</td><td>46</td><td>43</td></tr>\n",
       "\t<tr><td>government research cost share                 </td><td>  175235.64</td><td>  175235.64</td><td> 1362418.6</td><td>19</td><td>47</td><td>46</td></tr>\n",
       "\t<tr><td>elasticity of demand                           </td><td>  -76722.56</td><td>  174867.36</td><td>  902963.6</td><td>37</td><td>48</td><td>48</td></tr>\n",
       "\t<tr><td>strategic value to external investors          </td><td>   93145.52</td><td>   93145.52</td><td>  542683.2</td><td>24</td><td>49</td><td>49</td></tr>\n",
       "\t<tr><td>government operating cost share                </td><td>  -20673.64</td><td>   89183.96</td><td>  520963.7</td><td>34</td><td>50</td><td>50</td></tr>\n",
       "\t<tr><td>elasticity of supply                           </td><td>   18927.60</td><td>   79720.00</td><td>  497590.7</td><td>29</td><td>51</td><td>52</td></tr>\n",
       "\t<tr><td>commercial fixed operating cost input          </td><td>   40247.60</td><td>   58322.80</td><td>  500877.2</td><td>26</td><td>52</td><td>51</td></tr>\n",
       "\t<tr><td>aversion to NPV deviation                      </td><td>   -9178.76</td><td>   55051.88</td><td>  349351.7</td><td>30</td><td>53</td><td>54</td></tr>\n",
       "\t<tr><td>long term market size                          </td><td>   43178.80</td><td>   43178.80</td><td>  431788.0</td><td>25</td><td>54</td><td>53</td></tr>\n",
       "\t<tr><td>expected green premium                         </td><td>   38939.60</td><td>   38939.60</td><td>  275832.3</td><td>27</td><td>55</td><td>55</td></tr>\n",
       "\t<tr><td>custom feedstock reversion time                </td><td>  -22584.96</td><td>   22584.96</td><td>  225849.6</td><td>35</td><td>56</td><td>56</td></tr>\n",
       "\t<tr><td>incumbent reversion time                       </td><td>  -19358.24</td><td>   19358.24</td><td>  193582.4</td><td>33</td><td>57</td><td>57</td></tr>\n",
       "\t<tr><td>required internal return                       </td><td>  -17419.32</td><td>   17419.32</td><td>  174193.2</td><td>31</td><td>58</td><td>58</td></tr>\n",
       "</tbody>\n",
       "</table>\n"
      ],
      "text/latex": [
       "A data.table: 58 x 7\n",
       "\\begin{tabular}{r|lllllll}\n",
       " variable & mu & mustar & sigma & mu rank & mustar rank & sigma rank\\\\\n",
       " <chr> & <dbl> & <dbl> & <dbl> & <dbl> & <dbl> & <dbl>\\\\\n",
       "\\hline\n",
       "\t random stream                                   &  -133486.42 & 17541350.10 & 32484566.2 & 38 &  1 &  1\\\\\n",
       "\t base external investor ask rate                 & -1850318.17 &  7348024.55 & 13491334.1 & 56 &  2 &  3\\\\\n",
       "\t commercial capital cost input                   & -4207966.84 &  4334616.68 & 13694220.0 & 58 &  3 &  2\\\\\n",
       "\t regulatory process starting point               &  4174257.64 &  4289612.44 & 12396919.7 &  1 &  4 &  4\\\\\n",
       "\t target pilot hours                              & -2166769.50 &  2862255.10 &  8440518.3 & 57 &  5 &  8\\\\\n",
       "\t commercial plant capacity                       &   380346.26 &  2857048.94 &  8209448.8 & 14 &  6 &  9\\\\\n",
       "\t investor optimism                               &   142912.96 &  2727144.16 & 10559358.6 & 22 &  7 &  5\\\\\n",
       "\t target demo hours                               & -1729857.01 &  2321052.91 &  6482473.2 & 55 &  8 & 17\\\\\n",
       "\t commercial process yield input                  & -1440532.20 &  2320660.68 & 10236436.4 & 54 &  9 &  6\\\\\n",
       "\t bioproduct long term price                      &  1159692.06 &  2236895.78 &  6279024.3 &  2 & 10 & 18\\\\\n",
       "\t commercial plant capacity input                 &   851858.12 &  1796219.32 &  7529511.5 &  6 & 11 & 14\\\\\n",
       "\t incumbent starting price                        &  -217022.16 &  1444488.88 &  6851897.6 & 41 & 12 & 16\\\\\n",
       "\t payback period multiplier                       &   997769.92 &  1294443.76 &  5159332.6 &  4 & 13 & 22\\\\\n",
       "\t government operating grant period               &  -928596.08 &  1268723.28 &  8169127.0 & 53 & 14 & 10\\\\\n",
       "\t expected continuity of government policy        &   -17641.56 &  1211892.04 &  5776421.8 & 32 & 15 & 20\\\\\n",
       "\t incumbent price response magnitude              &  1019687.20 &  1199229.28 &  8710859.0 &  3 & 16 &  7\\\\\n",
       "\t bioproduct performance advantage                &   928416.05 &  1157809.73 &  7679894.7 &  5 & 17 & 12\\\\\n",
       "\t incumbent long term price trend                 &   172598.68 &  1061822.04 &  7343278.9 & 20 & 18 & 15\\\\\n",
       "\t feedstock approval maximum time                 &  -769938.04 &   882233.16 &  7635764.9 & 52 & 19 & 13\\\\\n",
       "\t feedstock approval maximum cost                 &  -277612.80 &   850506.40 &  4775505.9 & 44 & 20 & 26\\\\\n",
       "\t commercial variable operating cost input        &   133407.96 &   850349.32 &  5044597.4 & 23 & 21 & 24\\\\\n",
       "\t retrofit delay                                  &   351969.48 &   821691.16 &  5798967.0 & 15 & 22 & 19\\\\\n",
       "\t incumbent maximum fluctuation                   &   758617.36 &   813726.64 &  7705518.0 &  8 & 23 & 11\\\\\n",
       "\t product approval maximum cost                   &   778222.36 &   810382.36 &  4352778.7 &  7 & 24 & 29\\\\\n",
       "\t required return multiplier                      &   167171.12 &   801863.84 &  5051895.7 & 21 & 25 & 23\\\\\n",
       "\t government capital cost share                   &   558948.22 &   773394.70 &  3956830.0 & 10 & 26 & 32\\\\\n",
       "\t feedstock approval required switch              &  -513725.68 &   753237.56 &  2589536.2 & 48 & 27 & 39\\\\\n",
       "\t commercial plant startup period                 &  -657507.52 &   698248.08 &  4087269.1 & 51 & 28 & 30\\\\\n",
       "\t government production incentive                 &   687119.20 &   687119.20 &  4897714.9 &  9 & 29 & 25\\\\\n",
       "\t bioproduct offtake agreement                    &   532557.36 &   631127.36 &  5607602.9 & 11 & 30 & 21\\\\\n",
       "\t pathway approval required switch                &  -535228.88 &   575560.06 &  1726092.4 & 50 & 31 & 44\\\\\n",
       "\t market growth rate                              &  -519236.12 &   519236.12 &  4433164.2 & 49 & 32 & 28\\\\\n",
       "\t pathway approval maximum cost                   &  -463430.32 &   489200.32 &  4443983.2 & 47 & 33 & 27\\\\\n",
       "\t incumbent market share target economic          &   465681.84 &   465681.84 &  3459299.6 & 12 & 34 & 34\\\\\n",
       "\t pathway approval maximum time                   &  -421104.88 &   438102.08 &  2817063.5 & 46 & 35 & 35\\\\\n",
       "\t custom feedstock maximum fluctuation magnitude  &   306006.56 &   428637.36 &  3622887.6 & 17 & 36 & 33\\\\\n",
       "\t bioproduct price fluctuations                   &   402616.00 &   402616.00 &  4026160.0 & 13 & 37 & 31\\\\\n",
       "\t product approval required switch                &  -247180.23 &   369063.61 &  1293263.9 & 42 & 38 & 47\\\\\n",
       "\t bioproduct price reversion time                 &   301146.72 &   367441.36 &  2657513.1 & 18 & 39 & 37\\\\\n",
       "\t custom feedstock starting price                 &    28077.08 &   349222.68 &  2354480.8 & 28 & 40 & 41\\\\\n",
       "\t custom feedstock periodic fluctuation magnitude &   316337.16 &   337132.52 &  2783229.1 & 16 & 41 & 36\\\\\n",
       "\t product approval maximum time                   &  -307596.04 &   331842.36 &  2628612.8 & 45 & 42 & 38\\\\\n",
       "\t advertising budget                              &  -181763.40 &   298441.56 &  2257347.7 & 39 & 43 & 42\\\\\n",
       "\t stagegate length                                &  -271301.04 &   284275.76 &  2559691.6 & 43 & 44 & 40\\\\\n",
       "\t custom feedstock long term price change         &   -30893.04 &   234959.76 &  1422994.7 & 36 & 45 & 45\\\\\n",
       "\t initial market size                             &  -206129.72 &   206129.72 &  1758005.1 & 40 & 46 & 43\\\\\n",
       "\t government research cost share                  &   175235.64 &   175235.64 &  1362418.6 & 19 & 47 & 46\\\\\n",
       "\t elasticity of demand                            &   -76722.56 &   174867.36 &   902963.6 & 37 & 48 & 48\\\\\n",
       "\t strategic value to external investors           &    93145.52 &    93145.52 &   542683.2 & 24 & 49 & 49\\\\\n",
       "\t government operating cost share                 &   -20673.64 &    89183.96 &   520963.7 & 34 & 50 & 50\\\\\n",
       "\t elasticity of supply                            &    18927.60 &    79720.00 &   497590.7 & 29 & 51 & 52\\\\\n",
       "\t commercial fixed operating cost input           &    40247.60 &    58322.80 &   500877.2 & 26 & 52 & 51\\\\\n",
       "\t aversion to NPV deviation                       &    -9178.76 &    55051.88 &   349351.7 & 30 & 53 & 54\\\\\n",
       "\t long term market size                           &    43178.80 &    43178.80 &   431788.0 & 25 & 54 & 53\\\\\n",
       "\t expected green premium                          &    38939.60 &    38939.60 &   275832.3 & 27 & 55 & 55\\\\\n",
       "\t custom feedstock reversion time                 &   -22584.96 &    22584.96 &   225849.6 & 35 & 56 & 56\\\\\n",
       "\t incumbent reversion time                        &   -19358.24 &    19358.24 &   193582.4 & 33 & 57 & 57\\\\\n",
       "\t required internal return                        &   -17419.32 &    17419.32 &   174193.2 & 31 & 58 & 58\\\\\n",
       "\\end{tabular}\n"
      ],
      "text/markdown": [
       "\n",
       "A data.table: 58 x 7\n",
       "\n",
       "| variable &lt;chr&gt; | mu &lt;dbl&gt; | mustar &lt;dbl&gt; | sigma &lt;dbl&gt; | mu rank &lt;dbl&gt; | mustar rank &lt;dbl&gt; | sigma rank &lt;dbl&gt; |\n",
       "|---|---|---|---|---|---|---|\n",
       "| random stream                                   |  -133486.42 | 17541350.10 | 32484566.2 | 38 |  1 |  1 |\n",
       "| base external investor ask rate                 | -1850318.17 |  7348024.55 | 13491334.1 | 56 |  2 |  3 |\n",
       "| commercial capital cost input                   | -4207966.84 |  4334616.68 | 13694220.0 | 58 |  3 |  2 |\n",
       "| regulatory process starting point               |  4174257.64 |  4289612.44 | 12396919.7 |  1 |  4 |  4 |\n",
       "| target pilot hours                              | -2166769.50 |  2862255.10 |  8440518.3 | 57 |  5 |  8 |\n",
       "| commercial plant capacity                       |   380346.26 |  2857048.94 |  8209448.8 | 14 |  6 |  9 |\n",
       "| investor optimism                               |   142912.96 |  2727144.16 | 10559358.6 | 22 |  7 |  5 |\n",
       "| target demo hours                               | -1729857.01 |  2321052.91 |  6482473.2 | 55 |  8 | 17 |\n",
       "| commercial process yield input                  | -1440532.20 |  2320660.68 | 10236436.4 | 54 |  9 |  6 |\n",
       "| bioproduct long term price                      |  1159692.06 |  2236895.78 |  6279024.3 |  2 | 10 | 18 |\n",
       "| commercial plant capacity input                 |   851858.12 |  1796219.32 |  7529511.5 |  6 | 11 | 14 |\n",
       "| incumbent starting price                        |  -217022.16 |  1444488.88 |  6851897.6 | 41 | 12 | 16 |\n",
       "| payback period multiplier                       |   997769.92 |  1294443.76 |  5159332.6 |  4 | 13 | 22 |\n",
       "| government operating grant period               |  -928596.08 |  1268723.28 |  8169127.0 | 53 | 14 | 10 |\n",
       "| expected continuity of government policy        |   -17641.56 |  1211892.04 |  5776421.8 | 32 | 15 | 20 |\n",
       "| incumbent price response magnitude              |  1019687.20 |  1199229.28 |  8710859.0 |  3 | 16 |  7 |\n",
       "| bioproduct performance advantage                |   928416.05 |  1157809.73 |  7679894.7 |  5 | 17 | 12 |\n",
       "| incumbent long term price trend                 |   172598.68 |  1061822.04 |  7343278.9 | 20 | 18 | 15 |\n",
       "| feedstock approval maximum time                 |  -769938.04 |   882233.16 |  7635764.9 | 52 | 19 | 13 |\n",
       "| feedstock approval maximum cost                 |  -277612.80 |   850506.40 |  4775505.9 | 44 | 20 | 26 |\n",
       "| commercial variable operating cost input        |   133407.96 |   850349.32 |  5044597.4 | 23 | 21 | 24 |\n",
       "| retrofit delay                                  |   351969.48 |   821691.16 |  5798967.0 | 15 | 22 | 19 |\n",
       "| incumbent maximum fluctuation                   |   758617.36 |   813726.64 |  7705518.0 |  8 | 23 | 11 |\n",
       "| product approval maximum cost                   |   778222.36 |   810382.36 |  4352778.7 |  7 | 24 | 29 |\n",
       "| required return multiplier                      |   167171.12 |   801863.84 |  5051895.7 | 21 | 25 | 23 |\n",
       "| government capital cost share                   |   558948.22 |   773394.70 |  3956830.0 | 10 | 26 | 32 |\n",
       "| feedstock approval required switch              |  -513725.68 |   753237.56 |  2589536.2 | 48 | 27 | 39 |\n",
       "| commercial plant startup period                 |  -657507.52 |   698248.08 |  4087269.1 | 51 | 28 | 30 |\n",
       "| government production incentive                 |   687119.20 |   687119.20 |  4897714.9 |  9 | 29 | 25 |\n",
       "| bioproduct offtake agreement                    |   532557.36 |   631127.36 |  5607602.9 | 11 | 30 | 21 |\n",
       "| pathway approval required switch                |  -535228.88 |   575560.06 |  1726092.4 | 50 | 31 | 44 |\n",
       "| market growth rate                              |  -519236.12 |   519236.12 |  4433164.2 | 49 | 32 | 28 |\n",
       "| pathway approval maximum cost                   |  -463430.32 |   489200.32 |  4443983.2 | 47 | 33 | 27 |\n",
       "| incumbent market share target economic          |   465681.84 |   465681.84 |  3459299.6 | 12 | 34 | 34 |\n",
       "| pathway approval maximum time                   |  -421104.88 |   438102.08 |  2817063.5 | 46 | 35 | 35 |\n",
       "| custom feedstock maximum fluctuation magnitude  |   306006.56 |   428637.36 |  3622887.6 | 17 | 36 | 33 |\n",
       "| bioproduct price fluctuations                   |   402616.00 |   402616.00 |  4026160.0 | 13 | 37 | 31 |\n",
       "| product approval required switch                |  -247180.23 |   369063.61 |  1293263.9 | 42 | 38 | 47 |\n",
       "| bioproduct price reversion time                 |   301146.72 |   367441.36 |  2657513.1 | 18 | 39 | 37 |\n",
       "| custom feedstock starting price                 |    28077.08 |   349222.68 |  2354480.8 | 28 | 40 | 41 |\n",
       "| custom feedstock periodic fluctuation magnitude |   316337.16 |   337132.52 |  2783229.1 | 16 | 41 | 36 |\n",
       "| product approval maximum time                   |  -307596.04 |   331842.36 |  2628612.8 | 45 | 42 | 38 |\n",
       "| advertising budget                              |  -181763.40 |   298441.56 |  2257347.7 | 39 | 43 | 42 |\n",
       "| stagegate length                                |  -271301.04 |   284275.76 |  2559691.6 | 43 | 44 | 40 |\n",
       "| custom feedstock long term price change         |   -30893.04 |   234959.76 |  1422994.7 | 36 | 45 | 45 |\n",
       "| initial market size                             |  -206129.72 |   206129.72 |  1758005.1 | 40 | 46 | 43 |\n",
       "| government research cost share                  |   175235.64 |   175235.64 |  1362418.6 | 19 | 47 | 46 |\n",
       "| elasticity of demand                            |   -76722.56 |   174867.36 |   902963.6 | 37 | 48 | 48 |\n",
       "| strategic value to external investors           |    93145.52 |    93145.52 |   542683.2 | 24 | 49 | 49 |\n",
       "| government operating cost share                 |   -20673.64 |    89183.96 |   520963.7 | 34 | 50 | 50 |\n",
       "| elasticity of supply                            |    18927.60 |    79720.00 |   497590.7 | 29 | 51 | 52 |\n",
       "| commercial fixed operating cost input           |    40247.60 |    58322.80 |   500877.2 | 26 | 52 | 51 |\n",
       "| aversion to NPV deviation                       |    -9178.76 |    55051.88 |   349351.7 | 30 | 53 | 54 |\n",
       "| long term market size                           |    43178.80 |    43178.80 |   431788.0 | 25 | 54 | 53 |\n",
       "| expected green premium                          |    38939.60 |    38939.60 |   275832.3 | 27 | 55 | 55 |\n",
       "| custom feedstock reversion time                 |   -22584.96 |    22584.96 |   225849.6 | 35 | 56 | 56 |\n",
       "| incumbent reversion time                        |   -19358.24 |    19358.24 |   193582.4 | 33 | 57 | 57 |\n",
       "| required internal return                        |   -17419.32 |    17419.32 |   174193.2 | 31 | 58 | 58 |\n",
       "\n"
      ],
      "text/plain": [
       "   variable                                        mu          mustar     \n",
       "1  random stream                                    -133486.42 17541350.10\n",
       "2  base external investor ask rate                 -1850318.17  7348024.55\n",
       "3  commercial capital cost input                   -4207966.84  4334616.68\n",
       "4  regulatory process starting point                4174257.64  4289612.44\n",
       "5  target pilot hours                              -2166769.50  2862255.10\n",
       "6  commercial plant capacity                         380346.26  2857048.94\n",
       "7  investor optimism                                 142912.96  2727144.16\n",
       "8  target demo hours                               -1729857.01  2321052.91\n",
       "9  commercial process yield input                  -1440532.20  2320660.68\n",
       "10 bioproduct long term price                       1159692.06  2236895.78\n",
       "11 commercial plant capacity input                   851858.12  1796219.32\n",
       "12 incumbent starting price                         -217022.16  1444488.88\n",
       "13 payback period multiplier                         997769.92  1294443.76\n",
       "14 government operating grant period                -928596.08  1268723.28\n",
       "15 expected continuity of government policy          -17641.56  1211892.04\n",
       "16 incumbent price response magnitude               1019687.20  1199229.28\n",
       "17 bioproduct performance advantage                  928416.05  1157809.73\n",
       "18 incumbent long term price trend                   172598.68  1061822.04\n",
       "19 feedstock approval maximum time                  -769938.04   882233.16\n",
       "20 feedstock approval maximum cost                  -277612.80   850506.40\n",
       "21 commercial variable operating cost input          133407.96   850349.32\n",
       "22 retrofit delay                                    351969.48   821691.16\n",
       "23 incumbent maximum fluctuation                     758617.36   813726.64\n",
       "24 product approval maximum cost                     778222.36   810382.36\n",
       "25 required return multiplier                        167171.12   801863.84\n",
       "26 government capital cost share                     558948.22   773394.70\n",
       "27 feedstock approval required switch               -513725.68   753237.56\n",
       "28 commercial plant startup period                  -657507.52   698248.08\n",
       "29 government production incentive                   687119.20   687119.20\n",
       "30 bioproduct offtake agreement                      532557.36   631127.36\n",
       "31 pathway approval required switch                 -535228.88   575560.06\n",
       "32 market growth rate                               -519236.12   519236.12\n",
       "33 pathway approval maximum cost                    -463430.32   489200.32\n",
       "34 incumbent market share target economic            465681.84   465681.84\n",
       "35 pathway approval maximum time                    -421104.88   438102.08\n",
       "36 custom feedstock maximum fluctuation magnitude    306006.56   428637.36\n",
       "37 bioproduct price fluctuations                     402616.00   402616.00\n",
       "38 product approval required switch                 -247180.23   369063.61\n",
       "39 bioproduct price reversion time                   301146.72   367441.36\n",
       "40 custom feedstock starting price                    28077.08   349222.68\n",
       "41 custom feedstock periodic fluctuation magnitude   316337.16   337132.52\n",
       "42 product approval maximum time                    -307596.04   331842.36\n",
       "43 advertising budget                               -181763.40   298441.56\n",
       "44 stagegate length                                 -271301.04   284275.76\n",
       "45 custom feedstock long term price change           -30893.04   234959.76\n",
       "46 initial market size                              -206129.72   206129.72\n",
       "47 government research cost share                    175235.64   175235.64\n",
       "48 elasticity of demand                              -76722.56   174867.36\n",
       "49 strategic value to external investors              93145.52    93145.52\n",
       "50 government operating cost share                   -20673.64    89183.96\n",
       "51 elasticity of supply                               18927.60    79720.00\n",
       "52 commercial fixed operating cost input              40247.60    58322.80\n",
       "53 aversion to NPV deviation                          -9178.76    55051.88\n",
       "54 long term market size                              43178.80    43178.80\n",
       "55 expected green premium                             38939.60    38939.60\n",
       "56 custom feedstock reversion time                   -22584.96    22584.96\n",
       "57 incumbent reversion time                          -19358.24    19358.24\n",
       "58 required internal return                          -17419.32    17419.32\n",
       "   sigma      mu rank mustar rank sigma rank\n",
       "1  32484566.2 38       1           1        \n",
       "2  13491334.1 56       2           3        \n",
       "3  13694220.0 58       3           2        \n",
       "4  12396919.7  1       4           4        \n",
       "5   8440518.3 57       5           8        \n",
       "6   8209448.8 14       6           9        \n",
       "7  10559358.6 22       7           5        \n",
       "8   6482473.2 55       8          17        \n",
       "9  10236436.4 54       9           6        \n",
       "10  6279024.3  2      10          18        \n",
       "11  7529511.5  6      11          14        \n",
       "12  6851897.6 41      12          16        \n",
       "13  5159332.6  4      13          22        \n",
       "14  8169127.0 53      14          10        \n",
       "15  5776421.8 32      15          20        \n",
       "16  8710859.0  3      16           7        \n",
       "17  7679894.7  5      17          12        \n",
       "18  7343278.9 20      18          15        \n",
       "19  7635764.9 52      19          13        \n",
       "20  4775505.9 44      20          26        \n",
       "21  5044597.4 23      21          24        \n",
       "22  5798967.0 15      22          19        \n",
       "23  7705518.0  8      23          11        \n",
       "24  4352778.7  7      24          29        \n",
       "25  5051895.7 21      25          23        \n",
       "26  3956830.0 10      26          32        \n",
       "27  2589536.2 48      27          39        \n",
       "28  4087269.1 51      28          30        \n",
       "29  4897714.9  9      29          25        \n",
       "30  5607602.9 11      30          21        \n",
       "31  1726092.4 50      31          44        \n",
       "32  4433164.2 49      32          28        \n",
       "33  4443983.2 47      33          27        \n",
       "34  3459299.6 12      34          34        \n",
       "35  2817063.5 46      35          35        \n",
       "36  3622887.6 17      36          33        \n",
       "37  4026160.0 13      37          31        \n",
       "38  1293263.9 42      38          47        \n",
       "39  2657513.1 18      39          37        \n",
       "40  2354480.8 28      40          41        \n",
       "41  2783229.1 16      41          36        \n",
       "42  2628612.8 45      42          38        \n",
       "43  2257347.7 39      43          42        \n",
       "44  2559691.6 43      44          40        \n",
       "45  1422994.7 36      45          45        \n",
       "46  1758005.1 40      46          43        \n",
       "47  1362418.6 19      47          46        \n",
       "48   902963.6 37      48          48        \n",
       "49   542683.2 24      49          49        \n",
       "50   520963.7 34      50          50        \n",
       "51   497590.7 29      51          52        \n",
       "52   500877.2 26      52          51        \n",
       "53   349351.7 30      53          54        \n",
       "54   431788.0 25      54          53        \n",
       "55   275832.3 27      55          55        \n",
       "56   225849.6 35      56          56        \n",
       "57   193582.4 33      57          57        \n",
       "58   174193.2 31      58          58        "
      ]
     },
     "metadata": {},
     "output_type": "display_data"
    }
   ],
   "source": [
    "z.result[, `:=`(`mu rank` = frank(-mu), `mustar rank` = frank(-mustar), `sigma rank` = frank(-sigma))]\n",
    "z.result[order(-mustar)]"
   ]
  },
  {
   "cell_type": "markdown",
   "metadata": {},
   "source": [
    "### Plot mu vs sigma."
   ]
  },
  {
   "cell_type": "code",
   "execution_count": 90,
   "metadata": {},
   "outputs": [
    {
     "data": {},
     "metadata": {},
     "output_type": "display_data"
    },
    {
     "data": {
      "image/png": "[encoded data removed]",
      "text/plain": [
       "plot without title"
      ]
     },
     "metadata": {},
     "output_type": "display_data"
    }
   ],
   "source": [
    "ggplot(z.result, aes(x = mu, y = sigma, color = mustar, label = variable)) +\n",
    "    geom_point() +\n",
    "    geom_text(size = 2, hjust = 0, vjust = 0)"
   ]
  }
 ],
 "metadata": {
  "kernelspec": {
   "display_name": "R",
   "language": "R",
   "name": "ir"
  },
  "language_info": {
   "codemirror_mode": "r",
   "file_extension": ".r",
   "mimetype": "text/x-r-source",
   "name": "R",
   "pygments_lexer": "r",
   "version": "3.6.1"
  }
 },
 "nbformat": 4,
 "nbformat_minor": 2
}
