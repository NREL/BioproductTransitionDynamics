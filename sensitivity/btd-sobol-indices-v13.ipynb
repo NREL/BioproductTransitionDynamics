{
 "cells": [
  {
   "cell_type": "markdown",
   "metadata": {},
   "source": [
    "# Sobol Sensitivity Indices for the BTD Model"
   ]
  },
  {
   "cell_type": "markdown",
   "metadata": {},
   "source": [
    "## Setup packages."
   ]
  },
  {
   "cell_type": "code",
   "execution_count": 1,
   "metadata": {
    "scrolled": false
   },
   "outputs": [
    {
     "name": "stderr",
     "output_type": "stream",
     "text": [
      "Loading required package: data.table\n",
      "Loading required package: magrittr\n",
      "Loading required package: sensitivity\n",
      "Registered S3 method overwritten by 'sensitivity':\n",
      "  method    from \n",
      "  print.src dplyr\n",
      "Loading required package: SobolSequence\n",
      "Loading required package: ggplot2\n"
     ]
    }
   ],
   "source": [
    "require(data.table)\n",
    "require(magrittr)\n",
    "require(sensitivity)\n",
    "require(SobolSequence)\n",
    "\n",
    "require(ggplot2)"
   ]
  },
  {
   "cell_type": "markdown",
   "metadata": {},
   "source": [
    "## Design experiment."
   ]
  },
  {
   "cell_type": "markdown",
   "metadata": {},
   "source": [
    "### Load input ranges."
   ]
  },
  {
   "cell_type": "code",
   "execution_count": 2,
   "metadata": {
    "scrolled": true
   },
   "outputs": [
    {
     "data": {
      "text/html": [
       "<ol class=list-inline>\n",
       "\t<li>32</li>\n",
       "\t<li>9</li>\n",
       "</ol>\n"
      ],
      "text/latex": [
       "\\begin{enumerate*}\n",
       "\\item 32\n",
       "\\item 9\n",
       "\\end{enumerate*}\n"
      ],
      "text/markdown": [
       "1. 32\n",
       "2. 9\n",
       "\n",
       "\n"
      ],
      "text/plain": [
       "[1] 32  9"
      ]
     },
     "metadata": {},
     "output_type": "display_data"
    }
   ],
   "source": [
    "z.ranges <- fread(\"input-ranges-si.tsv\")\n",
    "z.ranges %>% dim"
   ]
  },
  {
   "cell_type": "code",
   "execution_count": 3,
   "metadata": {},
   "outputs": [
    {
     "data": {
      "text/plain": [
       "   Variable            Units               Type           Model Minimum   \n",
       " Length:32          Length:32          Length:32          Min.   :  0.00  \n",
       " Class :character   Class :character   Class :character   1st Qu.:  0.00  \n",
       " Mode  :character   Mode  :character   Mode  :character   Median :  0.01  \n",
       "                                                          Mean   : 17.89  \n",
       "                                                          3rd Qu.:  1.00  \n",
       "                                                          Max.   :168.00  \n",
       " Model Maximum      Model Default       Sensitivity Minimum Sensitivity Maximum\n",
       " Length:32          Min.   :        0   Min.   :        0   Min.   :0.000e+00  \n",
       " Class :character   1st Qu.:        0   1st Qu.:        0   1st Qu.:3.000e+00  \n",
       " Mode  :character   Median :        1   Median :        0   Median :1.400e+01  \n",
       "                    Mean   : 12547769   Mean   :  3764340   Mean   :5.865e+07  \n",
       "                    3rd Qu.:     1664   3rd Qu.:      512   3rd Qu.:1.058e+04  \n",
       "                    Max.   :401248000   Max.   :120374400   Max.   :1.321e+09  \n",
       " Sensitivity Default\n",
       " Min.   :        0  \n",
       " 1st Qu.:        0  \n",
       " Median :        1  \n",
       " Mean   : 12547769  \n",
       " 3rd Qu.:     1664  \n",
       " Max.   :401248000  "
      ]
     },
     "metadata": {},
     "output_type": "display_data"
    }
   ],
   "source": [
    "z.ranges %>% summary"
   ]
  },
  {
   "cell_type": "markdown",
   "metadata": {},
   "source": [
    "### Experiment based on Sobol sequences."
   ]
  },
  {
   "cell_type": "code",
   "execution_count": 4,
   "metadata": {},
   "outputs": [],
   "source": [
    "n <- 200\n",
    "k <- dim(z.ranges)[1]"
   ]
  },
  {
   "cell_type": "code",
   "execution_count": 5,
   "metadata": {},
   "outputs": [
    {
     "data": {
      "text/html": [
       "<ol class=list-inline>\n",
       "\t<li>200</li>\n",
       "\t<li>64</li>\n",
       "</ol>\n"
      ],
      "text/latex": [
       "\\begin{enumerate*}\n",
       "\\item 200\n",
       "\\item 64\n",
       "\\end{enumerate*}\n"
      ],
      "text/markdown": [
       "1. 200\n",
       "2. 64\n",
       "\n",
       "\n"
      ],
      "text/plain": [
       "[1] 200  64"
      ]
     },
     "metadata": {},
     "output_type": "display_data"
    }
   ],
   "source": [
    "z.design <- sobolSequence.points(2 * k, count = n)\n",
    "colnames(z.design) <- c(z.ranges$Variable, z.ranges$Variable)\n",
    "z.design %>% dim"
   ]
  },
  {
   "cell_type": "code",
   "execution_count": 6,
   "metadata": {},
   "outputs": [],
   "source": [
    "write.table(z.design, file = \"design-si.tsv\", row.names = FALSE, col.names = TRUE, sep = \"\\t\", quote = FALSE)"
   ]
  },
  {
   "cell_type": "markdown",
   "metadata": {},
   "source": [
    "### Relate the design to the model's variables."
   ]
  },
  {
   "cell_type": "code",
   "execution_count": 7,
   "metadata": {},
   "outputs": [
    {
     "data": {
      "text/html": [
       "<ol class=list-inline>\n",
       "\t<li>6800</li>\n",
       "\t<li>35</li>\n",
       "</ol>\n"
      ],
      "text/latex": [
       "\\begin{enumerate*}\n",
       "\\item 6800\n",
       "\\item 35\n",
       "\\end{enumerate*}\n"
      ],
      "text/markdown": [
       "1. 6800\n",
       "2. 35\n",
       "\n",
       "\n"
      ],
      "text/plain": [
       "[1] 6800   35"
      ]
     },
     "metadata": {},
     "output_type": "display_data"
    }
   ],
   "source": [
    "z.ab <- z.design\n",
    "for (i in 1:k) {\n",
    "    for (j in c(i, k + i)) {\n",
    "        z.ab[, j] <- z.ranges[i, `Sensitivity Minimum`] * (1 - z.ab[, j]) +\n",
    "                     z.ranges[i, `Sensitivity Maximum`] *      z.ab[, j]\n",
    "        if (z.ranges[i, `Type`] %in% c(\"Integer\", \"Boolean\"))\n",
    "            z.ab[, j] <- round(z.ab[, j])\n",
    "    }\n",
    "}\n",
    "z.inputs <- rbind(\n",
    "    data.table(Matrix = \"A\", Index = 0, z.ab[, 1:k    ]),\n",
    "    data.table(Matrix = \"B\", Index = 0, z.ab[, 1:k + k])    \n",
    ")\n",
    "for (i in 1:k) {\n",
    "    z.c <- z.ab[, 1:k + k]\n",
    "    z.c[, i] <- z.ab[, i]\n",
    "    z.inputs <- rbind(\n",
    "        z.inputs,\n",
    "        data.table(Matrix = \"C\", Index = i, z.c)\n",
    "    )\n",
    "}\n",
    "z.inputs <- cbind(\n",
    "    Run = 1:dim(z.inputs)[1],\n",
    "    z.inputs\n",
    ")\n",
    "z.inputs %>% dim"
   ]
  },
  {
   "cell_type": "code",
   "execution_count": 8,
   "metadata": {},
   "outputs": [
    {
     "data": {
      "text/plain": [
       "      Run          Matrix              Index       aversion to NPV deviation\n",
       " Min.   :   1   Length:6800        Min.   : 0.00   Min.   :0.0600           \n",
       " 1st Qu.:1701   Class :character   1st Qu.: 7.00   1st Qu.:0.7075           \n",
       " Median :3400   Mode  :character   Median :15.50   Median :1.3549           \n",
       " Mean   :3400                      Mean   :15.53   Mean   :1.3537           \n",
       " 3rd Qu.:5100                      3rd Qu.:24.00   3rd Qu.:2.0024           \n",
       " Max.   :6800                      Max.   :32.00   Max.   :2.6498           \n",
       " base external investor ask rate bioproduct long term price\n",
       " Min.   : 2.400                  Min.   :1500              \n",
       " 1st Qu.: 6.384                  1st Qu.:3368              \n",
       " Median :10.369                  Median :5236              \n",
       " Mean   :10.364                  Mean   :5224              \n",
       " 3rd Qu.:14.353                  3rd Qu.:7103              \n",
       " Max.   :18.337                  Max.   :8971              \n",
       " bioproduct performance advantage commercial capital cost input\n",
       " Min.   :0.350                    Min.   :1.204e+08            \n",
       " 1st Qu.:1.707                    1st Qu.:4.194e+08            \n",
       " Median :3.064                    Median :7.183e+08            \n",
       " Mean   :3.057                    Mean   :7.190e+08            \n",
       " 3rd Qu.:4.422                    3rd Qu.:1.017e+09            \n",
       " Max.   :5.779                    Max.   :1.316e+09            \n",
       " commercial plant capacity commercial plant capacity input\n",
       " Min.   :   8590           Min.   :   8590                \n",
       " 1st Qu.: 634713           1st Qu.: 634713                \n",
       " Median :1260836           Median :1260836                \n",
       " Mean   :1260408           Mean   :1254862                \n",
       " 3rd Qu.:1886959           3rd Qu.:1886959                \n",
       " Max.   :2513082           Max.   :2513082                \n",
       " commercial process yield input commercial variable operating cost input\n",
       " Min.   :0.2360                 Min.   : 365.7                          \n",
       " 1st Qu.:0.4543                 1st Qu.: 764.9                          \n",
       " Median :0.6726                 Median :1164.2                          \n",
       " Mean   :0.6736                 Mean   :1165.0                          \n",
       " 3rd Qu.:0.8908                 3rd Qu.:1563.4                          \n",
       " Max.   :1.1091                 Max.   :1962.6                          \n",
       " expected continuity of government policy government capital cost share\n",
       " Min.   :0.3000                           Min.   :0.1500               \n",
       " 1st Qu.:0.5490                           1st Qu.:0.3368               \n",
       " Median :0.7980                           Median :0.5235               \n",
       " Mean   :0.7958                           Mean   :0.5251               \n",
       " 3rd Qu.:1.0471                           3rd Qu.:0.7103               \n",
       " Max.   :1.2961                           Max.   :0.8971               \n",
       " government production incentive initial market size management response time\n",
       " Min.   :   0                    Min.   :   60050    Min.   :0.0995          \n",
       " 1st Qu.:1245                    1st Qu.:12536112    1st Qu.:0.7570          \n",
       " Median :2490                    Median :25012174    Median :1.4146          \n",
       " Mean   :2493                    Mean   :24887614    Mean   :1.4071          \n",
       " 3rd Qu.:3735                    3rd Qu.:37488235    3rd Qu.:2.0721          \n",
       " Max.   :4980                    Max.   :49964297    Max.   :2.7297          \n",
       " market growth rate minimum runway   number of missed stagegates allowed\n",
       " Min.   :0.01500    Min.   :0.0995   Min.   :0.900                      \n",
       " 1st Qu.:0.03990    1st Qu.:0.7570   1st Qu.:2.519                      \n",
       " Median :0.06480    Median :1.4146   Median :4.137                      \n",
       " Mean   :0.06471    Mean   :1.4168   Mean   :4.119                      \n",
       " 3rd Qu.:0.08971    3rd Qu.:2.0721   3rd Qu.:5.756                      \n",
       " Max.   :0.11461    Max.   :2.7297   Max.   :7.375                      \n",
       " payback period multiplier pilot and demo response time pilot capacity    \n",
       " Min.   :0.300             Min.   :0.0845               Min.   :   270.5  \n",
       " 1st Qu.:1.664             1st Qu.:0.7358               1st Qu.:124405.4  \n",
       " Median :3.029             Median :1.3871               Median :248540.4  \n",
       " Mean   :3.035             Mean   :1.3834               Mean   :247933.2  \n",
       " 3rd Qu.:4.393             3rd Qu.:2.0385               3rd Qu.:372675.3  \n",
       " Max.   :5.757             Max.   :2.6898               Max.   :496810.2  \n",
       " piloting acceptable rate piloting failure default recovery time\n",
       " Min.   : 2334            Min.   :0.2600                        \n",
       " 1st Qu.: 4331            1st Qu.:0.6584                        \n",
       " Median : 6327            Median :1.0569                        \n",
       " Mean   : 6341            Mean   :1.0577                        \n",
       " 3rd Qu.: 8324            3rd Qu.:1.4553                        \n",
       " Max.   :10320            Max.   :1.8538                        \n",
       " piloting failure distribution max random stream   required internal return\n",
       " Min.   :1.500                     Min.   : 0.00   Min.   :0.0290          \n",
       " 1st Qu.:3.360                     1st Qu.: 6.00   1st Qu.:0.6603          \n",
       " Median :5.221                     Median :12.00   Median :1.2915          \n",
       " Mean   :5.221                     Mean   :11.96   Mean   :1.2916          \n",
       " 3rd Qu.:7.081                     3rd Qu.:18.00   3rd Qu.:1.9228          \n",
       " Max.   :8.941                     Max.   :24.00   Max.   :2.5541          \n",
       " required return multiplier researching impact on piloting\n",
       " Min.   :0.305              Min.   :0.0750                \n",
       " 1st Qu.:1.668              1st Qu.:0.2244                \n",
       " Median :3.031              Median :0.3738                \n",
       " Mean   :3.028              Mean   :0.3750                \n",
       " 3rd Qu.:4.394              3rd Qu.:0.5232                \n",
       " Max.   :5.757              Max.   :0.6727                \n",
       " startup piloting period startup piloting rate\n",
       " Min.   :150.0           Min.   : 110         \n",
       " 1st Qu.:336.8           1st Qu.:1214         \n",
       " Median :523.5           Median :2318         \n",
       " Mean   :525.0           Mean   :2317         \n",
       " 3rd Qu.:710.3           3rd Qu.:3422         \n",
       " Max.   :897.1           Max.   :4526         \n",
       " strategic value to external investors target demo hours target pilot hours\n",
       " Min.   :        0                     Min.   : 1550     Min.   :  950     \n",
       " 1st Qu.:124511719                     1st Qu.: 4343     1st Qu.: 3494     \n",
       " Median :249023438                     Median : 7136     Median : 6038     \n",
       " Mean   :248552390                     Mean   : 7121     Mean   : 6040     \n",
       " 3rd Qu.:373535156                     3rd Qu.: 9929     3rd Qu.: 8582     \n",
       " Max.   :498046875                     Max.   :12722     Max.   :11126     "
      ]
     },
     "metadata": {},
     "output_type": "display_data"
    }
   ],
   "source": [
    "z.inputs %>% summary"
   ]
  },
  {
   "cell_type": "code",
   "execution_count": 9,
   "metadata": {},
   "outputs": [],
   "source": [
    "write.table(z.inputs[, 1:3], file=\"indices-si.tsv\", row.names = FALSE, col.names = TRUE, sep = \"\\t\", quote = FALSE)"
   ]
  },
  {
   "cell_type": "code",
   "execution_count": 10,
   "metadata": {},
   "outputs": [],
   "source": [
    "write.table(z.inputs[, -(2:3)], file=\"inputs-si.tsv\", row.names = FALSE, col.names = TRUE, sep = \"\\t\", quote = FALSE)"
   ]
  },
  {
   "cell_type": "markdown",
   "metadata": {},
   "source": [
    "## Analyze results."
   ]
  },
  {
   "cell_type": "markdown",
   "metadata": {},
   "source": [
    "### Read files."
   ]
  },
  {
   "cell_type": "markdown",
   "metadata": {},
   "source": [
    "#### Read design."
   ]
  },
  {
   "cell_type": "code",
   "execution_count": null,
   "metadata": {
    "scrolled": false
   },
   "outputs": [],
   "source": [
    "z.design <- fread(\"design-si.tsv\")\n",
    "z.design %>% dim"
   ]
  },
  {
   "cell_type": "markdown",
   "metadata": {},
   "source": [
    "#### Read inputs."
   ]
  },
  {
   "cell_type": "code",
   "execution_count": null,
   "metadata": {
    "scrolled": false
   },
   "outputs": [],
   "source": [
    "z.inputs <- fread(\"inputs-si.tsv\")\n",
    "z.inputs %>% dim"
   ]
  },
  {
   "cell_type": "markdown",
   "metadata": {},
   "source": [
    "#### Read outputs."
   ]
  },
  {
   "cell_type": "code",
   "execution_count": null,
   "metadata": {
    "scrolled": false
   },
   "outputs": [],
   "source": [
    "z.outputs <- fread(\"outputs-si.tsv\")\n",
    "z.outputs[Time == 2050] %>% dim"
   ]
  },
  {
   "cell_type": "code",
   "execution_count": null,
   "metadata": {
    "scrolled": false
   },
   "outputs": [],
   "source": [
    "z.outputs[Time == 2050] %>% summary"
   ]
  },
  {
   "cell_type": "markdown",
   "metadata": {},
   "source": [
    "### Compute sensitivity indices."
   ]
  },
  {
   "cell_type": "markdown",
   "metadata": {},
   "source": [
    "#### Just use the final year."
   ]
  },
  {
   "cell_type": "code",
   "execution_count": null,
   "metadata": {},
   "outputs": [],
   "source": [
    "z.outputs.clean <- z.outputs[order(Run)][`Time` == 2050, c(-1, -2)] %>% as.matrix\n",
    "z.outputs.clean %>% dim"
   ]
  }
 ],
 "metadata": {
  "kernelspec": {
   "display_name": "R",
   "language": "R",
   "name": "ir"
  },
  "language_info": {
   "codemirror_mode": "r",
   "file_extension": ".r",
   "mimetype": "text/x-r-source",
   "name": "R",
   "pygments_lexer": "r",
   "version": "3.6.1"
  }
 },
 "nbformat": 4,
 "nbformat_minor": 2
}
